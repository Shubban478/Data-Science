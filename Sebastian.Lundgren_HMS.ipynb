{
 "cells": [
  {
   "cell_type": "markdown",
   "id": "b5f48aa0-98b6-4284-930c-9c3a1f88bc6f",
   "metadata": {},
   "source": [
    "# Inlämningsuppgift / Assignment\n",
    "The assignment is divided upp into 3 parts; \n",
    "1. Numpy\n",
    "2. Pandas\n",
    "3. Exploration\n",
    "\n",
    "Each section has it's own instructions to follow and questions that must be answered. Please observe that if you use any additional libraries apart from **numpy**, **pandas** or **matplotlib**, you must include an **environment.yml** file such that I can duplicate your conda environment. \n",
    "\n",
    "Deadline for submitting this assignment is `Monday Feb 21st at 23:59`.\n",
    "\n",
    "#### List of files\n",
    " - *Assignment.ipynb* - which is to be renamed with your name and course town as such: **Firstname.Lastname_TOWN** where TOWN is to be replaced with **MO** for Malmö or **HMS** for Halmstad.\n",
    " - *countries.csv*\n",
    " - *covid-countries-data.csv*\n",
    " - *whatsapp analysis example.pdf*\n",
    "\n",
    "### Grading\n",
    "In order to obtain a **G** you must: \n",
    ">- Complete the whole *Numpy* section. \n",
    ">- Complete *Part 2*, except the questions marked **Q - VG**. \n",
    ">- Complete *Part 3*, except *Step 4* and the **VG** question in *Step 5*.\n",
    "\n",
    "To obtain **VG** you must:\n",
    ">- Complete all of the steps required in the **G** section. \n",
    ">- Complete the **Q - VG** questions in *Part 2*. \n",
    ">- Complete *Step 4* in *Part 3*.\n",
    "\n",
    "##### Resources: \n",
    "- [Numpy official tutorial](https://numpy.org/doc/stable/user/quickstart.html)\n",
    "- [Matplotlib](https://github.com/rougier/matplotlib-tutorial)"
   ]
  },
  {
   "cell_type": "markdown",
   "id": "3b0dc309-2a25-429d-bab0-6a5f40800395",
   "metadata": {},
   "source": [
    "## Part 1 - Numpy\n",
    "The objective of this part of the assignment is to develop a solid understanding of Numpy array operations. In this assignment you will:\n",
    "> \n",
    "> 1. Pick 5 interesting Numpy array functions by going through the documentation: https://numpy.org/doc/stable/reference/routines.html\n",
    "> 2. Run and modify this Jupyter notebook to illustrate their usage (some explanation and 3 examples for each function). Use your imagination to come up with interesting and unique examples.\n",
    "> 3. Do not use any of the functions mentioned on slide 11 of lecture notes *6. Datahantering och Numpy*. Choose something new!\n",
    "> 4. Try to give this section an interesting title & subtitle e.g. \"*5 Numpy functions you didn't know you needed*\", \"*Interesting ways to create Numpy arrays*\" etc."
   ]
  },
  {
   "cell_type": "markdown",
   "id": "7d870fac-d1db-4401-9eaf-c8be3a6f80ae",
   "metadata": {},
   "source": [
    "# Interesting Numpy functions to use in data science\n",
    "\n",
    "\n",
    "### Explanation\n",
    "\n",
    "Numpy is a great module for data science and is used to create ndarrays in different dimensions, execute mathematical operations and much more.\n",
    "One of the most useful things in Numpy is the performance of which it operates compared to Python. \n",
    "There are some interesting differences between Numpy and Python:\n",
    "\n",
    "* Numpy's ndarrays are fixed, so that when the shape of an ndarray is changed, the ndarray will actually be deleted and replaced with a new ndarray with the same values. \n",
    "* There can't be mixed values in an ndarray, for example an ndarray can't contain strings and integers. If we create an ndarray with integers and floats, the values are stored as float.\n",
    "* Numpy can execute more complex mathematic operations, and is therefor a great complement to the Python standard library.\n",
    "\n",
    "Below are 5 methods that can be useful when performing scientific research.\n",
    "\n",
    "- arange\n",
    "- zeros\n",
    "- clip\n",
    "- std\n",
    "- median\n",
    "\n",
    "It's important to understand that ndarrays is multidimensional and homogeneous arrays with fixed size.\n",
    "\n",
    "We start by importing numpy as np to use in the examples listed:"
   ]
  },
  {
   "cell_type": "code",
   "execution_count": 37,
   "id": "20e361a6-3696-433d-ac11-1e40d4716cc8",
   "metadata": {},
   "outputs": [],
   "source": [
    "import numpy as np"
   ]
  },
  {
   "cell_type": "code",
   "execution_count": 38,
   "id": "0e71eff0-208b-4721-bdad-d1660aa4986c",
   "metadata": {},
   "outputs": [],
   "source": [
    "function1 = np.arange\n",
    "function2 = np.zeros\n",
    "function3 = np.clip\n",
    "function4 = np.std\n",
    "function5 = np.median"
   ]
  },
  {
   "cell_type": "markdown",
   "id": "54b9284a-20fb-47e8-9198-cb8131bea6a8",
   "metadata": {
    "tags": []
   },
   "source": [
    "## Function 1 - np.arange()\n",
    "\n",
    "The arange() function will generate a new ndarray with a sequence of numbers based on the given values.\n",
    "\n",
    "Worth mentioning is that if no dtype is declared, arange will automatically specifies the dtype based on the arguments given.\n",
    "\n",
    "Syntax is np.arange(x, y, z).\n",
    "\n",
    "* x is the starting number that will be the start of the ndarray and is included in the returned ndarray. Example: np.arange(5, 10) will return [5, 6, 7, 8, 9].\n",
    "* y is the stopping value and will not be included. Example: np.arange(1, 5) will return [1, 2, 3, 4].\n",
    "* z is the steps of the ndarray. Example: np.arange(1, 10, 2) will return [1, 3, 5, 7, 9]."
   ]
  },
  {
   "cell_type": "code",
   "execution_count": 39,
   "id": "104cd384-8321-4f01-b523-4e0a2d085ff4",
   "metadata": {},
   "outputs": [
    {
     "data": {
      "text/plain": [
       "array([ 0,  2,  4,  6,  8, 10, 12, 14, 16, 18])"
      ]
     },
     "execution_count": 39,
     "metadata": {},
     "output_type": "execute_result"
    }
   ],
   "source": [
    "np.arange(0, 20, 2, dtype=int)"
   ]
  },
  {
   "cell_type": "markdown",
   "id": "3b4764c3-a5f4-418b-8b00-d1d3d3cb6f16",
   "metadata": {},
   "source": [
    "Here the function starts at 0 and ends at 20. The output will be 0 and even number as indicated by the steps, 2 at the end."
   ]
  },
  {
   "cell_type": "code",
   "execution_count": 40,
   "id": "fe8e34a7-3ce1-44ba-ad23-3d8b7c10c1e0",
   "metadata": {},
   "outputs": [
    {
     "data": {
      "text/plain": [
       "array([ 0. ,  1.5,  3. ,  4.5,  6. ,  7.5,  9. , 10.5, 12. , 13.5, 15. ,\n",
       "       16.5, 18. , 19.5])"
      ]
     },
     "execution_count": 40,
     "metadata": {},
     "output_type": "execute_result"
    }
   ],
   "source": [
    "np.arange(0, 20, 1.5, dtype=float)"
   ]
  },
  {
   "cell_type": "markdown",
   "id": "c321af32-49d7-4560-9462-81de1851071a",
   "metadata": {},
   "source": [
    "In this example, we start at 0 and ends at 20 as well. But with the 1.5 steps we will get every 1.5 number instead."
   ]
  },
  {
   "cell_type": "code",
   "execution_count": 41,
   "id": "56122d90-798a-4693-9ce0-98c9292e2d3c",
   "metadata": {},
   "outputs": [
    {
     "ename": "ZeroDivisionError",
     "evalue": "division by zero",
     "output_type": "error",
     "traceback": [
      "\u001b[0;31m---------------------------------------------------------------------------\u001b[0m",
      "\u001b[0;31mZeroDivisionError\u001b[0m                         Traceback (most recent call last)",
      "\u001b[0;32m/var/folders/9q/c5c0pnr12j1_4krmjt_wtyf00000gn/T/ipykernel_95505/1061239002.py\u001b[0m in \u001b[0;36m<module>\u001b[0;34m\u001b[0m\n\u001b[0;32m----> 1\u001b[0;31m \u001b[0mnp\u001b[0m\u001b[0;34m.\u001b[0m\u001b[0marange\u001b[0m\u001b[0;34m(\u001b[0m\u001b[0;36m0\u001b[0m\u001b[0;34m,\u001b[0m \u001b[0;36m20\u001b[0m\u001b[0;34m,\u001b[0m \u001b[0;36m0\u001b[0m\u001b[0;34m)\u001b[0m\u001b[0;34m\u001b[0m\u001b[0;34m\u001b[0m\u001b[0m\n\u001b[0m",
      "\u001b[0;31mZeroDivisionError\u001b[0m: division by zero"
     ]
    }
   ],
   "source": [
    "np.arange(0, 20, 0)"
   ]
  },
  {
   "cell_type": "markdown",
   "id": "91a94b2a-49ac-4bda-b6ae-2ddd0942e521",
   "metadata": {},
   "source": [
    "Here we will get a ZeroDivisionError since 0 is not a valid step.\n",
    "\n",
    "To fix this, we could increase the step to something larger than 0, or if we don't include it at all the step will automatically be 1.\n",
    "\n",
    "(See example below)"
   ]
  },
  {
   "cell_type": "code",
   "execution_count": null,
   "id": "bd79e282",
   "metadata": {},
   "outputs": [
    {
     "data": {
      "text/plain": [
       "array([ 0,  1,  2,  3,  4,  5,  6,  7,  8,  9, 10, 11, 12, 13, 14, 15, 16,\n",
       "       17, 18, 19])"
      ]
     },
     "execution_count": 11,
     "metadata": {},
     "output_type": "execute_result"
    }
   ],
   "source": [
    "np.arange(0, 20)"
   ]
  },
  {
   "cell_type": "markdown",
   "id": "d934eaf4",
   "metadata": {},
   "source": [
    "### Why would we use the arange() function?\n",
    "\n",
    "Not only is the np.arange() faster than range() in python, it also saves a lot of memory.\n",
    "\n",
    "The most notable difference though is that range() can only be used with integers, and when using arange() you can specify the dtype to int or float depending on what you need in your ndarray."
   ]
  },
  {
   "cell_type": "markdown",
   "id": "12514fa7-dad6-4a84-939c-246eb1fd41bf",
   "metadata": {
    "tags": []
   },
   "source": [
    "## Function 2 - np.zeros()\n",
    "\n",
    "The np.zeros() will generate an ndarray with zeros.\n",
    "\n",
    "Syntax: np.zeros(x) or np.zeros((x, y)) to create an ndarray of a defined shape\n",
    "\n",
    "* np.zeros(x) declares the amount of values to be generated. Example: np.zeros(2) will generate an ndarray with 2 zero values.\n",
    "* np.zeros((x, y)) declare the shape of the zero ndarray. Example: np.zeros(2, 2) will generate 2 ndarrays with 2 zero values."
   ]
  },
  {
   "cell_type": "code",
   "execution_count": null,
   "id": "e86858e6-b689-45a3-8a19-51b914e0f9f1",
   "metadata": {},
   "outputs": [
    {
     "data": {
      "text/plain": [
       "array([0., 0., 0., 0., 0., 0., 0., 0., 0., 0., 0., 0., 0., 0., 0., 0., 0.,\n",
       "       0., 0., 0.])"
      ]
     },
     "execution_count": 12,
     "metadata": {},
     "output_type": "execute_result"
    }
   ],
   "source": [
    "np.zeros(20)"
   ]
  },
  {
   "cell_type": "markdown",
   "id": "240ffe5d-bf2f-4784-8594-7069a4352f31",
   "metadata": {},
   "source": [
    "This will create one array of only zeros, in this case 20 zeros"
   ]
  },
  {
   "cell_type": "code",
   "execution_count": null,
   "id": "990b5046-f6be-4009-98f8-b90032ef758d",
   "metadata": {},
   "outputs": [
    {
     "data": {
      "text/plain": [
       "array([[0., 0., 0., 0., 0.],\n",
       "       [0., 0., 0., 0., 0.],\n",
       "       [0., 0., 0., 0., 0.],\n",
       "       [0., 0., 0., 0., 0.]])"
      ]
     },
     "execution_count": 13,
     "metadata": {},
     "output_type": "execute_result"
    }
   ],
   "source": [
    "np.zeros((4, 5))"
   ]
  },
  {
   "cell_type": "markdown",
   "id": "36812b05-dbf3-4276-80e4-c53a9941865e",
   "metadata": {},
   "source": [
    "Here we define the shape of the ndarray when creating it, where 4 specify the numbers of ndarrays to create and 5 the length of each ndarray"
   ]
  },
  {
   "cell_type": "code",
   "execution_count": null,
   "id": "c235efb0-2a94-471d-ba03-25b797990f6a",
   "metadata": {},
   "outputs": [
    {
     "ename": "TypeError",
     "evalue": "Cannot interpret '5' as a data type",
     "output_type": "error",
     "traceback": [
      "\u001b[0;31m---------------------------------------------------------------------------\u001b[0m",
      "\u001b[0;31mTypeError\u001b[0m                                 Traceback (most recent call last)",
      "\u001b[0;32m/var/folders/9q/c5c0pnr12j1_4krmjt_wtyf00000gn/T/ipykernel_89816/2050274555.py\u001b[0m in \u001b[0;36m<module>\u001b[0;34m\u001b[0m\n\u001b[0;32m----> 1\u001b[0;31m \u001b[0mnp\u001b[0m\u001b[0;34m.\u001b[0m\u001b[0mzeros\u001b[0m\u001b[0;34m(\u001b[0m\u001b[0;36m4\u001b[0m\u001b[0;34m,\u001b[0m \u001b[0;36m5\u001b[0m\u001b[0;34m)\u001b[0m\u001b[0;34m\u001b[0m\u001b[0;34m\u001b[0m\u001b[0m\n\u001b[0m",
      "\u001b[0;31mTypeError\u001b[0m: Cannot interpret '5' as a data type"
     ]
    }
   ],
   "source": [
    "np.zeros(4, 5)"
   ]
  },
  {
   "cell_type": "markdown",
   "id": "8b9ab0de-8437-47eb-ae15-cffe2f546a3a",
   "metadata": {},
   "source": [
    "When we create a zero ndarray and want to define the shape when creating it, don't forget to add extra (). If we try to run the above code, the second parameter is for defining the dtype such as int. (Default datatype is float)\n",
    "\n",
    "(For example, see above for the correct way)"
   ]
  },
  {
   "cell_type": "markdown",
   "id": "4e5edd33",
   "metadata": {},
   "source": [
    "### Why would we want to define a array with zeros? \n",
    "\n",
    "If we don't yet have any data to use yet, we can create a ndarray of zeros as a placeholder for values if necessary. "
   ]
  },
  {
   "cell_type": "markdown",
   "id": "f69b97af-440c-428b-931f-9761fac94dd2",
   "metadata": {
    "tags": []
   },
   "source": [
    "## Function 3 - np.clip()\n",
    "\n",
    "The clip() function is used for setting the lowest and highest value in an ndarray and will round up or down, depending on the numbers in the ndarray we use clip on.\n",
    "\n",
    "Syntax is np.clip(x, y)\n",
    "\n",
    "* x is the lower limit\n",
    "* y is the higher limit"
   ]
  },
  {
   "cell_type": "code",
   "execution_count": null,
   "id": "0e5351fb-3884-4871-9125-9572ab778b5c",
   "metadata": {},
   "outputs": [
    {
     "data": {
      "text/plain": [
       "array([3, 4, 3, 5, 5, 5, 5])"
      ]
     },
     "execution_count": 15,
     "metadata": {},
     "output_type": "execute_result"
    }
   ],
   "source": [
    "a = np.array([3, 4, 2, 11, 5, 9, 7])\n",
    "\n",
    "a.clip(3,5)"
   ]
  },
  {
   "cell_type": "markdown",
   "id": "1a6b8f9c-2b41-4b9d-aeb1-331f354989b4",
   "metadata": {},
   "source": [
    "Here we set the minimum value to 3 and the highest value to 5. \n",
    "\n",
    "As we can see in the ndarray, there are a few numbers that is above the limit, and one below the limit. The numbers out of range is corrected to the minimum and higher value."
   ]
  },
  {
   "cell_type": "code",
   "execution_count": null,
   "id": "09098fcf-6cca-4115-a8e5-46b080cf1b94",
   "metadata": {},
   "outputs": [
    {
     "data": {
      "text/plain": [
       "array([[ 4,  4,  4,  4,  4],\n",
       "       [ 5,  6,  7,  8,  9],\n",
       "       [10, 11, 12, 13, 14],\n",
       "       [15, 15, 15, 15, 15]])"
      ]
     },
     "execution_count": 16,
     "metadata": {},
     "output_type": "execute_result"
    }
   ],
   "source": [
    "b = np.arange(5*4).reshape(4, 5)\n",
    "\n",
    "b.clip(4,15)"
   ]
  },
  {
   "cell_type": "markdown",
   "id": "3e697076-8519-4960-a72c-f09c8ca6ee1f",
   "metadata": {},
   "source": [
    "First we use arange() and reshape() to get a multidimensional ndarray that is already filled with numbers.\n",
    "\n",
    "Then we use clip to define the range (lower 4, higher 15). \n",
    "\n",
    "As we see in the example, we will end up with one ndarray filled with 4's and one at the end with 15's."
   ]
  },
  {
   "cell_type": "code",
   "execution_count": null,
   "id": "f51e21d8-ee19-42d3-aa7c-c7900ff39132",
   "metadata": {},
   "outputs": [
    {
     "ename": "ValueError",
     "evalue": "operands could not be broadcast together with shapes (4,5) (7,) () ",
     "output_type": "error",
     "traceback": [
      "\u001b[0;31m---------------------------------------------------------------------------\u001b[0m",
      "\u001b[0;31mValueError\u001b[0m                                Traceback (most recent call last)",
      "\u001b[0;32m/var/folders/9q/c5c0pnr12j1_4krmjt_wtyf00000gn/T/ipykernel_89816/4070138772.py\u001b[0m in \u001b[0;36m<module>\u001b[0;34m\u001b[0m\n\u001b[0;32m----> 1\u001b[0;31m \u001b[0mb\u001b[0m\u001b[0;34m.\u001b[0m\u001b[0mclip\u001b[0m\u001b[0;34m(\u001b[0m\u001b[0ma\u001b[0m\u001b[0;34m,\u001b[0m \u001b[0;36m15\u001b[0m\u001b[0;34m)\u001b[0m\u001b[0;34m\u001b[0m\u001b[0;34m\u001b[0m\u001b[0m\n\u001b[0m",
      "\u001b[0;32m~/opt/anaconda3/envs/DataScience/lib/python3.9/site-packages/numpy/core/_methods.py\u001b[0m in \u001b[0;36m_clip\u001b[0;34m(a, min, max, out, casting, **kwargs)\u001b[0m\n\u001b[1;32m    157\u001b[0m             um.maximum, a, min, out=out, casting=casting, **kwargs)\n\u001b[1;32m    158\u001b[0m     \u001b[0;32melse\u001b[0m\u001b[0;34m:\u001b[0m\u001b[0;34m\u001b[0m\u001b[0;34m\u001b[0m\u001b[0m\n\u001b[0;32m--> 159\u001b[0;31m         return _clip_dep_invoke_with_casting(\n\u001b[0m\u001b[1;32m    160\u001b[0m             um.clip, a, min, max, out=out, casting=casting, **kwargs)\n\u001b[1;32m    161\u001b[0m \u001b[0;34m\u001b[0m\u001b[0m\n",
      "\u001b[0;32m~/opt/anaconda3/envs/DataScience/lib/python3.9/site-packages/numpy/core/_methods.py\u001b[0m in \u001b[0;36m_clip_dep_invoke_with_casting\u001b[0;34m(ufunc, out, casting, *args, **kwargs)\u001b[0m\n\u001b[1;32m    111\u001b[0m     \u001b[0;31m# try to deal with broken casting rules\u001b[0m\u001b[0;34m\u001b[0m\u001b[0;34m\u001b[0m\u001b[0m\n\u001b[1;32m    112\u001b[0m     \u001b[0;32mtry\u001b[0m\u001b[0;34m:\u001b[0m\u001b[0;34m\u001b[0m\u001b[0;34m\u001b[0m\u001b[0m\n\u001b[0;32m--> 113\u001b[0;31m         \u001b[0;32mreturn\u001b[0m \u001b[0mufunc\u001b[0m\u001b[0;34m(\u001b[0m\u001b[0;34m*\u001b[0m\u001b[0margs\u001b[0m\u001b[0;34m,\u001b[0m \u001b[0mout\u001b[0m\u001b[0;34m=\u001b[0m\u001b[0mout\u001b[0m\u001b[0;34m,\u001b[0m \u001b[0;34m**\u001b[0m\u001b[0mkwargs\u001b[0m\u001b[0;34m)\u001b[0m\u001b[0;34m\u001b[0m\u001b[0;34m\u001b[0m\u001b[0m\n\u001b[0m\u001b[1;32m    114\u001b[0m     \u001b[0;32mexcept\u001b[0m \u001b[0m_exceptions\u001b[0m\u001b[0;34m.\u001b[0m\u001b[0m_UFuncOutputCastingError\u001b[0m \u001b[0;32mas\u001b[0m \u001b[0me\u001b[0m\u001b[0;34m:\u001b[0m\u001b[0;34m\u001b[0m\u001b[0;34m\u001b[0m\u001b[0m\n\u001b[1;32m    115\u001b[0m         \u001b[0;31m# Numpy 1.17.0, 2019-02-24\u001b[0m\u001b[0;34m\u001b[0m\u001b[0;34m\u001b[0m\u001b[0m\n",
      "\u001b[0;31mValueError\u001b[0m: operands could not be broadcast together with shapes (4,5) (7,) () "
     ]
    }
   ],
   "source": [
    "b.clip(a, 15)"
   ]
  },
  {
   "cell_type": "markdown",
   "id": "544c54c7",
   "metadata": {},
   "source": [
    "When using clip(), the lower and higher value needs to be defined. In this case, ndarray 'A' and 'B' is not the same shape and can't be used. \n",
    "\n",
    "To fix this, declare a number for the lower value or use an ndarray with the same shape."
   ]
  },
  {
   "cell_type": "code",
   "execution_count": null,
   "id": "9eda5d71",
   "metadata": {},
   "outputs": [
    {
     "data": {
      "text/plain": [
       "array([[ 0,  1,  2,  3,  4],\n",
       "       [ 5,  6,  7,  8,  9],\n",
       "       [10, 11, 12, 13, 14],\n",
       "       [15, 15, 15, 15, 15]])"
      ]
     },
     "execution_count": 19,
     "metadata": {},
     "output_type": "execute_result"
    }
   ],
   "source": [
    "c = np.arange(5*4).reshape(4, 5)\n",
    "\n",
    "b.clip(c, 15)"
   ]
  },
  {
   "cell_type": "markdown",
   "id": "0cf758e4",
   "metadata": {},
   "source": [
    "Note that this will not set any lower value and it's better to manually declare the lower value."
   ]
  },
  {
   "cell_type": "markdown",
   "id": "6c966a82-5025-4895-b599-6f574cf58950",
   "metadata": {},
   "source": [
    "### Why should we use clip()?"
   ]
  },
  {
   "cell_type": "markdown",
   "id": "29cae1ac-66fa-488b-8d5b-24e190c300ad",
   "metadata": {},
   "source": [
    "When working with data, we might face an interval of numbers but some might be out of range.\n",
    "\n",
    "To fix those values, we can use clip() to get the values in range.\n",
    "\n",
    "Be careful when using it though, as we might not want to change all numbers that is of out range."
   ]
  },
  {
   "cell_type": "markdown",
   "id": "f14becb8-b295-4f0d-822f-17f95210eabc",
   "metadata": {},
   "source": [
    "## Function 4 - np.std()\n",
    "\n",
    "The std() function will calculate the standard deviation of a range of integers or float.\n",
    "\n",
    "Syntax is np.std(x)\n",
    "\n",
    "* x is an ndarray that has been declared\n",
    "\n",
    "Note that we can declare the axis and dtype, but this is optional.\n",
    "\n",
    "* np.std(x, axis, dtype)"
   ]
  },
  {
   "cell_type": "code",
   "execution_count": null,
   "id": "fe35ac01-c9bc-4424-8c41-d1e1b883fd6e",
   "metadata": {},
   "outputs": [
    {
     "data": {
      "text/plain": [
       "13.60427833032274"
      ]
     },
     "execution_count": 13,
     "metadata": {},
     "output_type": "execute_result"
    }
   ],
   "source": [
    "# Example 1 - working\n",
    "student_lengths = np.array([192, 187, 157, 163, 183, 187, 168, 176, 160, 183, 192, 153])\n",
    "\n",
    "np.std(student_lengths)"
   ]
  },
  {
   "cell_type": "markdown",
   "id": "8fb4eb51-da5e-47f9-959f-c314d19240b3",
   "metadata": {},
   "source": [
    "We have the length of 12 students and we want to calculate the standard deviation. I think the standard deviation is low and we can say this is acceptable."
   ]
  },
  {
   "cell_type": "code",
   "execution_count": null,
   "id": "ff58a19e-0f15-4db3-b76d-abc93b1d9ee6",
   "metadata": {},
   "outputs": [
    {
     "data": {
      "text/plain": [
       "10.416928371368158"
      ]
     },
     "execution_count": 14,
     "metadata": {},
     "output_type": "execute_result"
    }
   ],
   "source": [
    "# Example 2 - working\n",
    "student_ages = np.array([21, 26, 22, 28, 36, 19, 42, 31, 57, 28, 33])\n",
    "\n",
    "np.std(student_ages)"
   ]
  },
  {
   "cell_type": "markdown",
   "id": "3ed5a1ba-c3f0-41b9-816c-8309422433da",
   "metadata": {},
   "source": [
    "As with the length, but now we will also calculate the standard deviation of the students ages. I would say this is pretty accurate as well."
   ]
  },
  {
   "cell_type": "code",
   "execution_count": null,
   "id": "038c82a3-d95c-40cf-9a6a-d3443eb52c51",
   "metadata": {},
   "outputs": [
    {
     "ename": "TypeError",
     "evalue": "cannot perform reduce with flexible type",
     "output_type": "error",
     "traceback": [
      "\u001b[0;31m---------------------------------------------------------------------------\u001b[0m",
      "\u001b[0;31mTypeError\u001b[0m                                 Traceback (most recent call last)",
      "\u001b[1;32m/Users/sebastian/Library/CloudStorage/OneDrive-Privat/Skola/Handelsakademin/Python med AI 1/Inlämningar/Data Science/Sebastian.Lundgren_HMS.ipynb Cell 37'\u001b[0m in \u001b[0;36m<module>\u001b[0;34m\u001b[0m\n\u001b[1;32m      <a href='vscode-notebook-cell:/Users/sebastian/Library/CloudStorage/OneDrive-Privat/Skola/Handelsakademin/Python%20med%20AI%201/Inl%C3%A4mningar/Data%20Science/Sebastian.Lundgren_HMS.ipynb#ch0000036?line=0'>1</a>\u001b[0m \u001b[39m# Example 3 - breaking (to illustrate when it breaks)\u001b[39;00m\n\u001b[1;32m      <a href='vscode-notebook-cell:/Users/sebastian/Library/CloudStorage/OneDrive-Privat/Skola/Handelsakademin/Python%20med%20AI%201/Inl%C3%A4mningar/Data%20Science/Sebastian.Lundgren_HMS.ipynb#ch0000036?line=1'>2</a>\u001b[0m student_grades \u001b[39m=\u001b[39m np\u001b[39m.\u001b[39marray([\u001b[39m'\u001b[39m\u001b[39mVG\u001b[39m\u001b[39m'\u001b[39m, \u001b[39m'\u001b[39m\u001b[39mG\u001b[39m\u001b[39m'\u001b[39m, \u001b[39m'\u001b[39m\u001b[39mG\u001b[39m\u001b[39m'\u001b[39m, \u001b[39m'\u001b[39m\u001b[39mIG\u001b[39m\u001b[39m'\u001b[39m, \u001b[39m'\u001b[39m\u001b[39mVG\u001b[39m\u001b[39m'\u001b[39m, \u001b[39m'\u001b[39m\u001b[39mVG\u001b[39m\u001b[39m'\u001b[39m, \u001b[39m'\u001b[39m\u001b[39mG\u001b[39m\u001b[39m'\u001b[39m, \u001b[39m'\u001b[39m\u001b[39mVG\u001b[39m\u001b[39m'\u001b[39m])\n\u001b[0;32m----> <a href='vscode-notebook-cell:/Users/sebastian/Library/CloudStorage/OneDrive-Privat/Skola/Handelsakademin/Python%20med%20AI%201/Inl%C3%A4mningar/Data%20Science/Sebastian.Lundgren_HMS.ipynb#ch0000036?line=3'>4</a>\u001b[0m np\u001b[39m.\u001b[39;49mstd(student_grades)\n",
      "File \u001b[0;32m<__array_function__ internals>:5\u001b[0m, in \u001b[0;36mstd\u001b[0;34m(*args, **kwargs)\u001b[0m\n",
      "File \u001b[0;32m~/opt/anaconda3/envs/DataScience/lib/python3.9/site-packages/numpy/core/fromnumeric.py:3581\u001b[0m, in \u001b[0;36mstd\u001b[0;34m(a, axis, dtype, out, ddof, keepdims, where)\u001b[0m\n\u001b[1;32m   <a href='file:///~/opt/anaconda3/envs/DataScience/lib/python3.9/site-packages/numpy/core/fromnumeric.py?line=3577'>3578</a>\u001b[0m     \u001b[39melse\u001b[39;00m:\n\u001b[1;32m   <a href='file:///~/opt/anaconda3/envs/DataScience/lib/python3.9/site-packages/numpy/core/fromnumeric.py?line=3578'>3579</a>\u001b[0m         \u001b[39mreturn\u001b[39;00m std(axis\u001b[39m=\u001b[39maxis, dtype\u001b[39m=\u001b[39mdtype, out\u001b[39m=\u001b[39mout, ddof\u001b[39m=\u001b[39mddof, \u001b[39m*\u001b[39m\u001b[39m*\u001b[39mkwargs)\n\u001b[0;32m-> <a href='file:///~/opt/anaconda3/envs/DataScience/lib/python3.9/site-packages/numpy/core/fromnumeric.py?line=3580'>3581</a>\u001b[0m \u001b[39mreturn\u001b[39;00m _methods\u001b[39m.\u001b[39;49m_std(a, axis\u001b[39m=\u001b[39;49maxis, dtype\u001b[39m=\u001b[39;49mdtype, out\u001b[39m=\u001b[39;49mout, ddof\u001b[39m=\u001b[39;49mddof,\n\u001b[1;32m   <a href='file:///~/opt/anaconda3/envs/DataScience/lib/python3.9/site-packages/numpy/core/fromnumeric.py?line=3581'>3582</a>\u001b[0m                      \u001b[39m*\u001b[39;49m\u001b[39m*\u001b[39;49mkwargs)\n",
      "File \u001b[0;32m~/opt/anaconda3/envs/DataScience/lib/python3.9/site-packages/numpy/core/_methods.py:262\u001b[0m, in \u001b[0;36m_std\u001b[0;34m(a, axis, dtype, out, ddof, keepdims, where)\u001b[0m\n\u001b[1;32m    <a href='file:///~/opt/anaconda3/envs/DataScience/lib/python3.9/site-packages/numpy/core/_methods.py?line=259'>260</a>\u001b[0m \u001b[39mdef\u001b[39;00m \u001b[39m_std\u001b[39m(a, axis\u001b[39m=\u001b[39m\u001b[39mNone\u001b[39;00m, dtype\u001b[39m=\u001b[39m\u001b[39mNone\u001b[39;00m, out\u001b[39m=\u001b[39m\u001b[39mNone\u001b[39;00m, ddof\u001b[39m=\u001b[39m\u001b[39m0\u001b[39m, keepdims\u001b[39m=\u001b[39m\u001b[39mFalse\u001b[39;00m, \u001b[39m*\u001b[39m,\n\u001b[1;32m    <a href='file:///~/opt/anaconda3/envs/DataScience/lib/python3.9/site-packages/numpy/core/_methods.py?line=260'>261</a>\u001b[0m          where\u001b[39m=\u001b[39m\u001b[39mTrue\u001b[39;00m):\n\u001b[0;32m--> <a href='file:///~/opt/anaconda3/envs/DataScience/lib/python3.9/site-packages/numpy/core/_methods.py?line=261'>262</a>\u001b[0m     ret \u001b[39m=\u001b[39m _var(a, axis\u001b[39m=\u001b[39;49maxis, dtype\u001b[39m=\u001b[39;49mdtype, out\u001b[39m=\u001b[39;49mout, ddof\u001b[39m=\u001b[39;49mddof,\n\u001b[1;32m    <a href='file:///~/opt/anaconda3/envs/DataScience/lib/python3.9/site-packages/numpy/core/_methods.py?line=262'>263</a>\u001b[0m                keepdims\u001b[39m=\u001b[39;49mkeepdims, where\u001b[39m=\u001b[39;49mwhere)\n\u001b[1;32m    <a href='file:///~/opt/anaconda3/envs/DataScience/lib/python3.9/site-packages/numpy/core/_methods.py?line=264'>265</a>\u001b[0m     \u001b[39mif\u001b[39;00m \u001b[39misinstance\u001b[39m(ret, mu\u001b[39m.\u001b[39mndarray):\n\u001b[1;32m    <a href='file:///~/opt/anaconda3/envs/DataScience/lib/python3.9/site-packages/numpy/core/_methods.py?line=265'>266</a>\u001b[0m         ret \u001b[39m=\u001b[39m um\u001b[39m.\u001b[39msqrt(ret, out\u001b[39m=\u001b[39mret)\n",
      "File \u001b[0;32m~/opt/anaconda3/envs/DataScience/lib/python3.9/site-packages/numpy/core/_methods.py:212\u001b[0m, in \u001b[0;36m_var\u001b[0;34m(a, axis, dtype, out, ddof, keepdims, where)\u001b[0m\n\u001b[1;32m    <a href='file:///~/opt/anaconda3/envs/DataScience/lib/python3.9/site-packages/numpy/core/_methods.py?line=206'>207</a>\u001b[0m     dtype \u001b[39m=\u001b[39m mu\u001b[39m.\u001b[39mdtype(\u001b[39m'\u001b[39m\u001b[39mf8\u001b[39m\u001b[39m'\u001b[39m)\n\u001b[1;32m    <a href='file:///~/opt/anaconda3/envs/DataScience/lib/python3.9/site-packages/numpy/core/_methods.py?line=208'>209</a>\u001b[0m \u001b[39m# Compute the mean.\u001b[39;00m\n\u001b[1;32m    <a href='file:///~/opt/anaconda3/envs/DataScience/lib/python3.9/site-packages/numpy/core/_methods.py?line=209'>210</a>\u001b[0m \u001b[39m# Note that if dtype is not of inexact type then arraymean will\u001b[39;00m\n\u001b[1;32m    <a href='file:///~/opt/anaconda3/envs/DataScience/lib/python3.9/site-packages/numpy/core/_methods.py?line=210'>211</a>\u001b[0m \u001b[39m# not be either.\u001b[39;00m\n\u001b[0;32m--> <a href='file:///~/opt/anaconda3/envs/DataScience/lib/python3.9/site-packages/numpy/core/_methods.py?line=211'>212</a>\u001b[0m arrmean \u001b[39m=\u001b[39m umr_sum(arr, axis, dtype, keepdims\u001b[39m=\u001b[39;49m\u001b[39mTrue\u001b[39;49;00m, where\u001b[39m=\u001b[39;49mwhere)\n\u001b[1;32m    <a href='file:///~/opt/anaconda3/envs/DataScience/lib/python3.9/site-packages/numpy/core/_methods.py?line=212'>213</a>\u001b[0m \u001b[39m# The shape of rcount has to match arrmean to not change the shape of out\u001b[39;00m\n\u001b[1;32m    <a href='file:///~/opt/anaconda3/envs/DataScience/lib/python3.9/site-packages/numpy/core/_methods.py?line=213'>214</a>\u001b[0m \u001b[39m# in broadcasting. Otherwise, it cannot be stored back to arrmean.\u001b[39;00m\n\u001b[1;32m    <a href='file:///~/opt/anaconda3/envs/DataScience/lib/python3.9/site-packages/numpy/core/_methods.py?line=214'>215</a>\u001b[0m \u001b[39mif\u001b[39;00m rcount\u001b[39m.\u001b[39mndim \u001b[39m==\u001b[39m \u001b[39m0\u001b[39m:\n\u001b[1;32m    <a href='file:///~/opt/anaconda3/envs/DataScience/lib/python3.9/site-packages/numpy/core/_methods.py?line=215'>216</a>\u001b[0m     \u001b[39m# fast-path for default case when where is True\u001b[39;00m\n",
      "\u001b[0;31mTypeError\u001b[0m: cannot perform reduce with flexible type"
     ]
    }
   ],
   "source": [
    "# Example 3 - breaking (to illustrate when it breaks)\n",
    "student_grades = np.array(['VG', 'G', 'G', 'IG', 'VG', 'VG', 'G', 'VG'])\n",
    "\n",
    "np.std(student_grades)"
   ]
  },
  {
   "cell_type": "markdown",
   "id": "7a5eb180-7229-4836-ab71-aba150a72160",
   "metadata": {},
   "source": [
    "Here we are faced with a problem when calculating student grades standard deviation. Std wont work with string since it's not a number and math can't be performed to strings obviously.\n",
    "\n",
    "We could change the values in grades to numbers instead.\n",
    "* IG = 0\n",
    "* G = 1\n",
    "* VG = 2\n",
    "\n",
    "This was we can calculate deviation in a correct way\n",
    "\n",
    "(See example below)"
   ]
  },
  {
   "cell_type": "code",
   "execution_count": null,
   "id": "ea78133b",
   "metadata": {},
   "outputs": [
    {
     "data": {
      "text/plain": [
       "0.6959705453537527"
      ]
     },
     "execution_count": 20,
     "metadata": {},
     "output_type": "execute_result"
    }
   ],
   "source": [
    "student_grades_nums = np.array([2, 1, 1, 0, 2, 2, 1, 2])\n",
    "\n",
    "np.std(student_grades_nums)"
   ]
  },
  {
   "cell_type": "markdown",
   "id": "d5f64e90-00e1-44c9-9cb5-8000a548e264",
   "metadata": {},
   "source": [
    "### Why would we use std()?\n",
    "\n",
    "This will be a good function to use if we would want to calculate the spread of the data in the set. \n",
    "\n",
    "Using std() is better than calculate by hand which can be pretty time consuming. \n",
    "\n",
    "The closer to 0, the closer it is to the mean."
   ]
  },
  {
   "cell_type": "markdown",
   "id": "468e060e-32fe-473f-a481-49f5119312a1",
   "metadata": {},
   "source": [
    "## Function 5 - np.median()\n",
    "\n",
    "We use this function to calculate the average of the values in the array passed as an argument.\n",
    "\n",
    "Syntax is np.median(x)\n",
    "\n",
    "* x is the ndarray "
   ]
  },
  {
   "cell_type": "code",
   "execution_count": null,
   "id": "0de5f6ce-c475-444f-b65b-1be1e9878150",
   "metadata": {},
   "outputs": [
    {
     "data": {
      "text/plain": [
       "179.5"
      ]
     },
     "execution_count": 17,
     "metadata": {},
     "output_type": "execute_result"
    }
   ],
   "source": [
    "# Example 1 - working\n",
    "np.median(student_lengths)"
   ]
  },
  {
   "cell_type": "markdown",
   "id": "a4e100e2-3e6d-437c-96e9-25e0c6583820",
   "metadata": {},
   "source": [
    "Here we calculated that the mean of all students lengths is 179.5"
   ]
  },
  {
   "cell_type": "code",
   "execution_count": null,
   "id": "9250b67d-d3b3-4bed-9129-381711646ec9",
   "metadata": {},
   "outputs": [
    {
     "data": {
      "text/plain": [
       "28.0"
      ]
     },
     "execution_count": 18,
     "metadata": {},
     "output_type": "execute_result"
    }
   ],
   "source": [
    "# Example 2 - working\n",
    "np.median(student_ages)"
   ]
  },
  {
   "cell_type": "markdown",
   "id": "c808dd1a-ed80-4de4-8c01-2849df46ef80",
   "metadata": {},
   "source": [
    "And here we can see that the mean of all student ages is 28"
   ]
  },
  {
   "cell_type": "code",
   "execution_count": null,
   "id": "0a861066-88dc-4b14-a4ee-fa676f4e8bd6",
   "metadata": {},
   "outputs": [
    {
     "ename": "TypeError",
     "evalue": "cannot perform reduce with flexible type",
     "output_type": "error",
     "traceback": [
      "\u001b[0;31m---------------------------------------------------------------------------\u001b[0m",
      "\u001b[0;31mTypeError\u001b[0m                                 Traceback (most recent call last)",
      "\u001b[1;32m/Users/sebastian/Library/CloudStorage/OneDrive-Privat/Skola/Handelsakademin/Python med AI 1/Inlämningar/Data Science/Sebastian.Lundgren_HMS.ipynb Cell 46'\u001b[0m in \u001b[0;36m<module>\u001b[0;34m\u001b[0m\n\u001b[1;32m      <a href='vscode-notebook-cell:/Users/sebastian/Library/CloudStorage/OneDrive-Privat/Skola/Handelsakademin/Python%20med%20AI%201/Inl%C3%A4mningar/Data%20Science/Sebastian.Lundgren_HMS.ipynb#ch0000045?line=0'>1</a>\u001b[0m \u001b[39m# Example 3 - breaking (to illustrate when it breaks)\u001b[39;00m\n\u001b[0;32m----> <a href='vscode-notebook-cell:/Users/sebastian/Library/CloudStorage/OneDrive-Privat/Skola/Handelsakademin/Python%20med%20AI%201/Inl%C3%A4mningar/Data%20Science/Sebastian.Lundgren_HMS.ipynb#ch0000045?line=1'>2</a>\u001b[0m np\u001b[39m.\u001b[39;49mmedian(student_grades)\n",
      "File \u001b[0;32m<__array_function__ internals>:5\u001b[0m, in \u001b[0;36mmedian\u001b[0;34m(*args, **kwargs)\u001b[0m\n",
      "File \u001b[0;32m~/opt/anaconda3/envs/DataScience/lib/python3.9/site-packages/numpy/lib/function_base.py:3655\u001b[0m, in \u001b[0;36mmedian\u001b[0;34m(a, axis, out, overwrite_input, keepdims)\u001b[0m\n\u001b[1;32m   <a href='file:///~/opt/anaconda3/envs/DataScience/lib/python3.9/site-packages/numpy/lib/function_base.py?line=3572'>3573</a>\u001b[0m \u001b[39m@array_function_dispatch\u001b[39m(_median_dispatcher)\n\u001b[1;32m   <a href='file:///~/opt/anaconda3/envs/DataScience/lib/python3.9/site-packages/numpy/lib/function_base.py?line=3573'>3574</a>\u001b[0m \u001b[39mdef\u001b[39;00m \u001b[39mmedian\u001b[39m(a, axis\u001b[39m=\u001b[39m\u001b[39mNone\u001b[39;00m, out\u001b[39m=\u001b[39m\u001b[39mNone\u001b[39;00m, overwrite_input\u001b[39m=\u001b[39m\u001b[39mFalse\u001b[39;00m, keepdims\u001b[39m=\u001b[39m\u001b[39mFalse\u001b[39;00m):\n\u001b[1;32m   <a href='file:///~/opt/anaconda3/envs/DataScience/lib/python3.9/site-packages/numpy/lib/function_base.py?line=3574'>3575</a>\u001b[0m     \u001b[39m\"\"\"\u001b[39;00m\n\u001b[1;32m   <a href='file:///~/opt/anaconda3/envs/DataScience/lib/python3.9/site-packages/numpy/lib/function_base.py?line=3575'>3576</a>\u001b[0m \u001b[39m    Compute the median along the specified axis.\u001b[39;00m\n\u001b[1;32m   <a href='file:///~/opt/anaconda3/envs/DataScience/lib/python3.9/site-packages/numpy/lib/function_base.py?line=3576'>3577</a>\u001b[0m \n\u001b[0;32m   (...)\u001b[0m\n\u001b[1;32m   <a href='file:///~/opt/anaconda3/envs/DataScience/lib/python3.9/site-packages/numpy/lib/function_base.py?line=3652'>3653</a>\u001b[0m \n\u001b[1;32m   <a href='file:///~/opt/anaconda3/envs/DataScience/lib/python3.9/site-packages/numpy/lib/function_base.py?line=3653'>3654</a>\u001b[0m \u001b[39m    \"\"\"\u001b[39;00m\n\u001b[0;32m-> <a href='file:///~/opt/anaconda3/envs/DataScience/lib/python3.9/site-packages/numpy/lib/function_base.py?line=3654'>3655</a>\u001b[0m     r, k \u001b[39m=\u001b[39m _ureduce(a, func\u001b[39m=\u001b[39;49m_median, axis\u001b[39m=\u001b[39;49maxis, out\u001b[39m=\u001b[39;49mout,\n\u001b[1;32m   <a href='file:///~/opt/anaconda3/envs/DataScience/lib/python3.9/site-packages/numpy/lib/function_base.py?line=3655'>3656</a>\u001b[0m                     overwrite_input\u001b[39m=\u001b[39;49moverwrite_input)\n\u001b[1;32m   <a href='file:///~/opt/anaconda3/envs/DataScience/lib/python3.9/site-packages/numpy/lib/function_base.py?line=3656'>3657</a>\u001b[0m     \u001b[39mif\u001b[39;00m keepdims:\n\u001b[1;32m   <a href='file:///~/opt/anaconda3/envs/DataScience/lib/python3.9/site-packages/numpy/lib/function_base.py?line=3657'>3658</a>\u001b[0m         \u001b[39mreturn\u001b[39;00m r\u001b[39m.\u001b[39mreshape(k)\n",
      "File \u001b[0;32m~/opt/anaconda3/envs/DataScience/lib/python3.9/site-packages/numpy/lib/function_base.py:3564\u001b[0m, in \u001b[0;36m_ureduce\u001b[0;34m(a, func, **kwargs)\u001b[0m\n\u001b[1;32m   <a href='file:///~/opt/anaconda3/envs/DataScience/lib/python3.9/site-packages/numpy/lib/function_base.py?line=3560'>3561</a>\u001b[0m \u001b[39melse\u001b[39;00m:\n\u001b[1;32m   <a href='file:///~/opt/anaconda3/envs/DataScience/lib/python3.9/site-packages/numpy/lib/function_base.py?line=3561'>3562</a>\u001b[0m     keepdim \u001b[39m=\u001b[39m (\u001b[39m1\u001b[39m,) \u001b[39m*\u001b[39m a\u001b[39m.\u001b[39mndim\n\u001b[0;32m-> <a href='file:///~/opt/anaconda3/envs/DataScience/lib/python3.9/site-packages/numpy/lib/function_base.py?line=3563'>3564</a>\u001b[0m r \u001b[39m=\u001b[39m func(a, \u001b[39m*\u001b[39;49m\u001b[39m*\u001b[39;49mkwargs)\n\u001b[1;32m   <a href='file:///~/opt/anaconda3/envs/DataScience/lib/python3.9/site-packages/numpy/lib/function_base.py?line=3564'>3565</a>\u001b[0m \u001b[39mreturn\u001b[39;00m r, keepdim\n",
      "File \u001b[0;32m~/opt/anaconda3/envs/DataScience/lib/python3.9/site-packages/numpy/lib/function_base.py:3716\u001b[0m, in \u001b[0;36m_median\u001b[0;34m(a, axis, out, overwrite_input)\u001b[0m\n\u001b[1;32m   <a href='file:///~/opt/anaconda3/envs/DataScience/lib/python3.9/site-packages/numpy/lib/function_base.py?line=3710'>3711</a>\u001b[0m     \u001b[39mreturn\u001b[39;00m np\u001b[39m.\u001b[39mlib\u001b[39m.\u001b[39mutils\u001b[39m.\u001b[39m_median_nancheck(part, rout, axis, out)\n\u001b[1;32m   <a href='file:///~/opt/anaconda3/envs/DataScience/lib/python3.9/site-packages/numpy/lib/function_base.py?line=3711'>3712</a>\u001b[0m \u001b[39melse\u001b[39;00m:\n\u001b[1;32m   <a href='file:///~/opt/anaconda3/envs/DataScience/lib/python3.9/site-packages/numpy/lib/function_base.py?line=3712'>3713</a>\u001b[0m     \u001b[39m# if there are no nans\u001b[39;00m\n\u001b[1;32m   <a href='file:///~/opt/anaconda3/envs/DataScience/lib/python3.9/site-packages/numpy/lib/function_base.py?line=3713'>3714</a>\u001b[0m     \u001b[39m# Use mean in odd and even case to coerce data type\u001b[39;00m\n\u001b[1;32m   <a href='file:///~/opt/anaconda3/envs/DataScience/lib/python3.9/site-packages/numpy/lib/function_base.py?line=3714'>3715</a>\u001b[0m     \u001b[39m# and check, use out array.\u001b[39;00m\n\u001b[0;32m-> <a href='file:///~/opt/anaconda3/envs/DataScience/lib/python3.9/site-packages/numpy/lib/function_base.py?line=3715'>3716</a>\u001b[0m     \u001b[39mreturn\u001b[39;00m mean(part[indexer], axis\u001b[39m=\u001b[39;49maxis, out\u001b[39m=\u001b[39;49mout)\n",
      "File \u001b[0;32m<__array_function__ internals>:5\u001b[0m, in \u001b[0;36mmean\u001b[0;34m(*args, **kwargs)\u001b[0m\n",
      "File \u001b[0;32m~/opt/anaconda3/envs/DataScience/lib/python3.9/site-packages/numpy/core/fromnumeric.py:3440\u001b[0m, in \u001b[0;36mmean\u001b[0;34m(a, axis, dtype, out, keepdims, where)\u001b[0m\n\u001b[1;32m   <a href='file:///~/opt/anaconda3/envs/DataScience/lib/python3.9/site-packages/numpy/core/fromnumeric.py?line=3436'>3437</a>\u001b[0m     \u001b[39melse\u001b[39;00m:\n\u001b[1;32m   <a href='file:///~/opt/anaconda3/envs/DataScience/lib/python3.9/site-packages/numpy/core/fromnumeric.py?line=3437'>3438</a>\u001b[0m         \u001b[39mreturn\u001b[39;00m mean(axis\u001b[39m=\u001b[39maxis, dtype\u001b[39m=\u001b[39mdtype, out\u001b[39m=\u001b[39mout, \u001b[39m*\u001b[39m\u001b[39m*\u001b[39mkwargs)\n\u001b[0;32m-> <a href='file:///~/opt/anaconda3/envs/DataScience/lib/python3.9/site-packages/numpy/core/fromnumeric.py?line=3439'>3440</a>\u001b[0m \u001b[39mreturn\u001b[39;00m _methods\u001b[39m.\u001b[39;49m_mean(a, axis\u001b[39m=\u001b[39;49maxis, dtype\u001b[39m=\u001b[39;49mdtype,\n\u001b[1;32m   <a href='file:///~/opt/anaconda3/envs/DataScience/lib/python3.9/site-packages/numpy/core/fromnumeric.py?line=3440'>3441</a>\u001b[0m                       out\u001b[39m=\u001b[39;49mout, \u001b[39m*\u001b[39;49m\u001b[39m*\u001b[39;49mkwargs)\n",
      "File \u001b[0;32m~/opt/anaconda3/envs/DataScience/lib/python3.9/site-packages/numpy/core/_methods.py:179\u001b[0m, in \u001b[0;36m_mean\u001b[0;34m(a, axis, dtype, out, keepdims, where)\u001b[0m\n\u001b[1;32m    <a href='file:///~/opt/anaconda3/envs/DataScience/lib/python3.9/site-packages/numpy/core/_methods.py?line=175'>176</a>\u001b[0m         dtype \u001b[39m=\u001b[39m mu\u001b[39m.\u001b[39mdtype(\u001b[39m'\u001b[39m\u001b[39mf4\u001b[39m\u001b[39m'\u001b[39m)\n\u001b[1;32m    <a href='file:///~/opt/anaconda3/envs/DataScience/lib/python3.9/site-packages/numpy/core/_methods.py?line=176'>177</a>\u001b[0m         is_float16_result \u001b[39m=\u001b[39m \u001b[39mTrue\u001b[39;00m\n\u001b[0;32m--> <a href='file:///~/opt/anaconda3/envs/DataScience/lib/python3.9/site-packages/numpy/core/_methods.py?line=178'>179</a>\u001b[0m ret \u001b[39m=\u001b[39m umr_sum(arr, axis, dtype, out, keepdims, where\u001b[39m=\u001b[39;49mwhere)\n\u001b[1;32m    <a href='file:///~/opt/anaconda3/envs/DataScience/lib/python3.9/site-packages/numpy/core/_methods.py?line=179'>180</a>\u001b[0m \u001b[39mif\u001b[39;00m \u001b[39misinstance\u001b[39m(ret, mu\u001b[39m.\u001b[39mndarray):\n\u001b[1;32m    <a href='file:///~/opt/anaconda3/envs/DataScience/lib/python3.9/site-packages/numpy/core/_methods.py?line=180'>181</a>\u001b[0m     ret \u001b[39m=\u001b[39m um\u001b[39m.\u001b[39mtrue_divide(\n\u001b[1;32m    <a href='file:///~/opt/anaconda3/envs/DataScience/lib/python3.9/site-packages/numpy/core/_methods.py?line=181'>182</a>\u001b[0m             ret, rcount, out\u001b[39m=\u001b[39mret, casting\u001b[39m=\u001b[39m\u001b[39m'\u001b[39m\u001b[39munsafe\u001b[39m\u001b[39m'\u001b[39m, subok\u001b[39m=\u001b[39m\u001b[39mFalse\u001b[39;00m)\n",
      "\u001b[0;31mTypeError\u001b[0m: cannot perform reduce with flexible type"
     ]
    }
   ],
   "source": [
    "# Example 3 - breaking (to illustrate when it breaks)\n",
    "np.median(student_grades)"
   ]
  },
  {
   "cell_type": "markdown",
   "id": "bd1a6acb-7e4f-4193-9eef-2d4c5f8d3f34",
   "metadata": {},
   "source": [
    "You might want to get the median of the students lenght, age and grades. But as excepted we can't calculate the median with string dtype. \n",
    "\n",
    "We can use the array with grades that are converted to numbers to easy see the median."
   ]
  },
  {
   "cell_type": "code",
   "execution_count": null,
   "id": "1490da73",
   "metadata": {},
   "outputs": [
    {
     "data": {
      "text/plain": [
       "1.5"
      ]
     },
     "execution_count": 20,
     "metadata": {},
     "output_type": "execute_result"
    }
   ],
   "source": [
    "np.median(student_grades_nums)"
   ]
  },
  {
   "cell_type": "markdown",
   "id": "461cdfe0-78f7-48fe-9c3f-8afc2e7626ea",
   "metadata": {},
   "source": [
    "### Why would we want to use median()?\n",
    "\n",
    "This could be a very important function if we want to calculate the average and can be used if we would like, for example, the mean of the students grades.\n",
    "\n",
    "It's very useful for example if we want to see if the students learns anything from our courses ;) "
   ]
  },
  {
   "cell_type": "markdown",
   "id": "6e7ebc46-7ffa-4475-a7bc-ec6d673d3663",
   "metadata": {
    "jp-MarkdownHeadingCollapsed": true,
    "tags": []
   },
   "source": [
    "### Conclusion\n",
    "\n",
    "In the section above we have covered a lot of great functions that is frequently used in data science to compute mathematical operations or to get a feel of the data we have in a set.\n",
    "\n",
    "Regardless of which data we have or how much, it's great functions to get a feel for your, organize data or to handle incorrect values.\n",
    "\n",
    "Hopefully this was useful for you in your work now that you have some of the basic functions."
   ]
  },
  {
   "cell_type": "markdown",
   "id": "f7c39b06-75c9-49e9-9100-d753c2c176de",
   "metadata": {},
   "source": [
    "### Reference Links\n",
    "\n",
    "Explanation of the ndarray: \n",
    "\n",
    "https://numpy.org/doc/stable/reference/generated/numpy.ndarray.html\n",
    "\n",
    "Important Numpy functions:\n",
    "\n",
    "https://analyticsindiamag.com/the-most-important-numpy-functions-you-should-know-when-learning-python/\n",
    "\n",
    "Numpy cheat sheet for data analysis:\n",
    "\n",
    "https://www.datacamp.com/blog/numpy-cheat-sheet-data-analysis-in-python\n",
    "\n",
    "More Numpy functions:\n",
    "\n",
    "https://www.pythonlikeyoumeanit.com/Module3_IntroducingNumpy/FunctionsForCreatingNumpyArrays.html\n",
    "\n",
    "Some frequent Numpy errors and how to solve them:\n",
    "\n",
    "https://metaphor.ethz.ch/fsdb/sam/PythonTutorial/frequent_errors.html\n",
    "\n",
    "Links to the functions used as examples: \n",
    "\n",
    "* https://numpy.org/doc/stable/reference/generated/numpy.arange.html\n",
    "* https://numpy.org/doc/stable/reference/generated/numpy.zeros.html\n",
    "* https://www.sharpsightlabs.com/blog/numpy-zeros-python/#zeros-syntax\n",
    "* https://numpy.org/doc/stable/reference/generated/numpy.clip.html\n",
    "* https://www.pythonpool.com/numpy-clip/\n",
    "* https://numpy.org/doc/stable/reference/generated/numpy.std.html\n",
    "* https://numpy.org/doc/stable/reference/generated/numpy.median.html"
   ]
  },
  {
   "cell_type": "markdown",
   "id": "caeb55e4-9257-4ce3-be73-8a7ab8843108",
   "metadata": {},
   "source": [
    "# Part 2 - Pandas\n",
    "\n",
    "As you go through *Part 2*, you will find a **???** in certain places. To complete this part of the assignment, you must replace all the **???** with appropriate values, expressions or statements to ensure that the notebook runs properly end-to-end. \n",
    "\n",
    "Some things to keep in mind:\n",
    "\n",
    "* Make sure to run all the code cells, otherwise you may get errors like `NameError` for undefined variables.\n",
    "* Do not change variable names, delete cells or disturb other existing code. It may cause problems during evaluation.\n",
    "* In some cases, you may need to add some code cells or new statements before or after the line of code containing the **???**. \n",
    "* Questions marked **Q - VG** are for **VG level**.\n"
   ]
  },
  {
   "cell_type": "code",
   "execution_count": 42,
   "id": "813da4a0-f9dd-4d0b-b463-919038ba1c7b",
   "metadata": {},
   "outputs": [],
   "source": [
    "import pandas as pd"
   ]
  },
  {
   "cell_type": "markdown",
   "id": "5c47b51e-1ccb-4f1e-9d2d-b9db126cf4ae",
   "metadata": {},
   "source": [
    "Load the data from the supplied CSV file into a Pandas data frame."
   ]
  },
  {
   "cell_type": "code",
   "execution_count": 43,
   "id": "ae3333d6-f2b6-4a20-83df-64e97e253e80",
   "metadata": {},
   "outputs": [],
   "source": [
    "countries_df = pd.read_csv('resources/countries.csv')"
   ]
  },
  {
   "cell_type": "code",
   "execution_count": 44,
   "id": "3a8f30be-6d1a-4bc9-b7d9-4bec2f3396d0",
   "metadata": {},
   "outputs": [
    {
     "data": {
      "text/html": [
       "<div>\n",
       "<style scoped>\n",
       "    .dataframe tbody tr th:only-of-type {\n",
       "        vertical-align: middle;\n",
       "    }\n",
       "\n",
       "    .dataframe tbody tr th {\n",
       "        vertical-align: top;\n",
       "    }\n",
       "\n",
       "    .dataframe thead th {\n",
       "        text-align: right;\n",
       "    }\n",
       "</style>\n",
       "<table border=\"1\" class=\"dataframe\">\n",
       "  <thead>\n",
       "    <tr style=\"text-align: right;\">\n",
       "      <th></th>\n",
       "      <th>location</th>\n",
       "      <th>continent</th>\n",
       "      <th>population</th>\n",
       "      <th>life_expectancy</th>\n",
       "      <th>hospital_beds_per_thousand</th>\n",
       "      <th>gdp_per_capita</th>\n",
       "    </tr>\n",
       "  </thead>\n",
       "  <tbody>\n",
       "    <tr>\n",
       "      <th>0</th>\n",
       "      <td>Afghanistan</td>\n",
       "      <td>Asia</td>\n",
       "      <td>38928341.0</td>\n",
       "      <td>64.83</td>\n",
       "      <td>0.50</td>\n",
       "      <td>1803.987</td>\n",
       "    </tr>\n",
       "    <tr>\n",
       "      <th>1</th>\n",
       "      <td>Albania</td>\n",
       "      <td>Europe</td>\n",
       "      <td>2877800.0</td>\n",
       "      <td>78.57</td>\n",
       "      <td>2.89</td>\n",
       "      <td>11803.431</td>\n",
       "    </tr>\n",
       "    <tr>\n",
       "      <th>2</th>\n",
       "      <td>Algeria</td>\n",
       "      <td>Africa</td>\n",
       "      <td>43851043.0</td>\n",
       "      <td>76.88</td>\n",
       "      <td>1.90</td>\n",
       "      <td>13913.839</td>\n",
       "    </tr>\n",
       "    <tr>\n",
       "      <th>3</th>\n",
       "      <td>Andorra</td>\n",
       "      <td>Europe</td>\n",
       "      <td>77265.0</td>\n",
       "      <td>83.73</td>\n",
       "      <td>NaN</td>\n",
       "      <td>NaN</td>\n",
       "    </tr>\n",
       "    <tr>\n",
       "      <th>4</th>\n",
       "      <td>Angola</td>\n",
       "      <td>Africa</td>\n",
       "      <td>32866268.0</td>\n",
       "      <td>61.15</td>\n",
       "      <td>NaN</td>\n",
       "      <td>5819.495</td>\n",
       "    </tr>\n",
       "    <tr>\n",
       "      <th>...</th>\n",
       "      <td>...</td>\n",
       "      <td>...</td>\n",
       "      <td>...</td>\n",
       "      <td>...</td>\n",
       "      <td>...</td>\n",
       "      <td>...</td>\n",
       "    </tr>\n",
       "    <tr>\n",
       "      <th>205</th>\n",
       "      <td>Vietnam</td>\n",
       "      <td>Asia</td>\n",
       "      <td>97338583.0</td>\n",
       "      <td>75.40</td>\n",
       "      <td>2.60</td>\n",
       "      <td>6171.884</td>\n",
       "    </tr>\n",
       "    <tr>\n",
       "      <th>206</th>\n",
       "      <td>Western Sahara</td>\n",
       "      <td>Africa</td>\n",
       "      <td>597330.0</td>\n",
       "      <td>70.26</td>\n",
       "      <td>NaN</td>\n",
       "      <td>NaN</td>\n",
       "    </tr>\n",
       "    <tr>\n",
       "      <th>207</th>\n",
       "      <td>Yemen</td>\n",
       "      <td>Asia</td>\n",
       "      <td>29825968.0</td>\n",
       "      <td>66.12</td>\n",
       "      <td>0.70</td>\n",
       "      <td>1479.147</td>\n",
       "    </tr>\n",
       "    <tr>\n",
       "      <th>208</th>\n",
       "      <td>Zambia</td>\n",
       "      <td>Africa</td>\n",
       "      <td>18383956.0</td>\n",
       "      <td>63.89</td>\n",
       "      <td>2.00</td>\n",
       "      <td>3689.251</td>\n",
       "    </tr>\n",
       "    <tr>\n",
       "      <th>209</th>\n",
       "      <td>Zimbabwe</td>\n",
       "      <td>Africa</td>\n",
       "      <td>14862927.0</td>\n",
       "      <td>61.49</td>\n",
       "      <td>1.70</td>\n",
       "      <td>1899.775</td>\n",
       "    </tr>\n",
       "  </tbody>\n",
       "</table>\n",
       "<p>210 rows × 6 columns</p>\n",
       "</div>"
      ],
      "text/plain": [
       "           location continent  population  life_expectancy  \\\n",
       "0       Afghanistan      Asia  38928341.0            64.83   \n",
       "1           Albania    Europe   2877800.0            78.57   \n",
       "2           Algeria    Africa  43851043.0            76.88   \n",
       "3           Andorra    Europe     77265.0            83.73   \n",
       "4            Angola    Africa  32866268.0            61.15   \n",
       "..              ...       ...         ...              ...   \n",
       "205         Vietnam      Asia  97338583.0            75.40   \n",
       "206  Western Sahara    Africa    597330.0            70.26   \n",
       "207           Yemen      Asia  29825968.0            66.12   \n",
       "208          Zambia    Africa  18383956.0            63.89   \n",
       "209        Zimbabwe    Africa  14862927.0            61.49   \n",
       "\n",
       "     hospital_beds_per_thousand  gdp_per_capita  \n",
       "0                          0.50        1803.987  \n",
       "1                          2.89       11803.431  \n",
       "2                          1.90       13913.839  \n",
       "3                           NaN             NaN  \n",
       "4                           NaN        5819.495  \n",
       "..                          ...             ...  \n",
       "205                        2.60        6171.884  \n",
       "206                         NaN             NaN  \n",
       "207                        0.70        1479.147  \n",
       "208                        2.00        3689.251  \n",
       "209                        1.70        1899.775  \n",
       "\n",
       "[210 rows x 6 columns]"
      ]
     },
     "execution_count": 44,
     "metadata": {},
     "output_type": "execute_result"
    }
   ],
   "source": [
    "countries_df"
   ]
  },
  {
   "cell_type": "markdown",
   "id": "4564bab7-c6ea-4fce-9b3c-56d5cb12ebca",
   "metadata": {},
   "source": [
    "**Q1: How many countries does the dataframe contain?**\n",
    "(Show which function/s you use to find this out.)"
   ]
  },
  {
   "cell_type": "code",
   "execution_count": 103,
   "id": "11ad659f-ea57-42f1-9cec-18a969b64e97",
   "metadata": {},
   "outputs": [
    {
     "data": {
      "text/plain": [
       "False"
      ]
     },
     "execution_count": 103,
     "metadata": {},
     "output_type": "execute_result"
    }
   ],
   "source": [
    "duplicates = countries_df['location'].duplicated().any() \n",
    "\n",
    "num_countries = len(countries_df)\n",
    "duplicates"
   ]
  },
  {
   "cell_type": "code",
   "execution_count": 101,
   "id": "de0adc50-05dc-4aef-8ce5-fc53f03e834a",
   "metadata": {},
   "outputs": [
    {
     "name": "stdout",
     "output_type": "stream",
     "text": [
      "There is 210 countries in the dataset\n"
     ]
    }
   ],
   "source": [
    "print('There is {0} countries in the dataset'.format(num_countries))"
   ]
  },
  {
   "cell_type": "markdown",
   "id": "7c78645c-1283-41a1-8ce4-bc59fb15cd5a",
   "metadata": {},
   "source": [
    "**Q2: Retrieve a list of continents from the dataframe?**"
   ]
  },
  {
   "cell_type": "code",
   "execution_count": 47,
   "id": "4d47091a-31d4-408f-a873-d2e72f3604dd",
   "metadata": {},
   "outputs": [],
   "source": [
    "continents = countries_df.continent.unique()"
   ]
  },
  {
   "cell_type": "code",
   "execution_count": 48,
   "id": "a7a0136b-6c33-4131-b001-c5deba641caa",
   "metadata": {},
   "outputs": [
    {
     "name": "stdout",
     "output_type": "stream",
     "text": [
      "['Asia' 'Europe' 'Africa' 'North America' 'South America' 'Oceania']\n"
     ]
    }
   ],
   "source": [
    "print(continents)"
   ]
  },
  {
   "cell_type": "markdown",
   "id": "a5792475-fb41-4099-bd49-913a72466155",
   "metadata": {
    "tags": []
   },
   "source": [
    "**Q3: What is the total population of all the countries listed in this dataset?**"
   ]
  },
  {
   "cell_type": "code",
   "execution_count": 49,
   "id": "e56aec4b-a97c-4371-b3c2-fe4823e56645",
   "metadata": {},
   "outputs": [],
   "source": [
    "total_population = countries_df['population'].sum()"
   ]
  },
  {
   "cell_type": "code",
   "execution_count": 50,
   "id": "62d9c55f-3ff6-4a1e-93e2-d42b3188d259",
   "metadata": {},
   "outputs": [
    {
     "name": "stdout",
     "output_type": "stream",
     "text": [
      "The total population is 7757980095.\n"
     ]
    }
   ],
   "source": [
    "print('The total population is {0}.'.format(int(total_population)))"
   ]
  },
  {
   "cell_type": "markdown",
   "id": "e11a43b2-6d5d-43d4-84e9-66edbdc102ca",
   "metadata": {},
   "source": [
    "**Q4: Create a dataframe containing 10 countries with the highest population.**"
   ]
  },
  {
   "cell_type": "code",
   "execution_count": 51,
   "id": "3142fbe3-2394-4a94-979e-a22b1234d4c7",
   "metadata": {},
   "outputs": [],
   "source": [
    "most_populous_df = countries_df.sort_values(by=['population'], ascending=False).head(10)"
   ]
  },
  {
   "cell_type": "code",
   "execution_count": 52,
   "id": "a2014e8d-0295-4e91-a137-74f704e241b6",
   "metadata": {},
   "outputs": [
    {
     "data": {
      "text/html": [
       "<div>\n",
       "<style scoped>\n",
       "    .dataframe tbody tr th:only-of-type {\n",
       "        vertical-align: middle;\n",
       "    }\n",
       "\n",
       "    .dataframe tbody tr th {\n",
       "        vertical-align: top;\n",
       "    }\n",
       "\n",
       "    .dataframe thead th {\n",
       "        text-align: right;\n",
       "    }\n",
       "</style>\n",
       "<table border=\"1\" class=\"dataframe\">\n",
       "  <thead>\n",
       "    <tr style=\"text-align: right;\">\n",
       "      <th></th>\n",
       "      <th>location</th>\n",
       "      <th>continent</th>\n",
       "      <th>population</th>\n",
       "      <th>life_expectancy</th>\n",
       "      <th>hospital_beds_per_thousand</th>\n",
       "      <th>gdp_per_capita</th>\n",
       "    </tr>\n",
       "  </thead>\n",
       "  <tbody>\n",
       "    <tr>\n",
       "      <th>41</th>\n",
       "      <td>China</td>\n",
       "      <td>Asia</td>\n",
       "      <td>1.439324e+09</td>\n",
       "      <td>76.91</td>\n",
       "      <td>4.34</td>\n",
       "      <td>15308.712</td>\n",
       "    </tr>\n",
       "    <tr>\n",
       "      <th>90</th>\n",
       "      <td>India</td>\n",
       "      <td>Asia</td>\n",
       "      <td>1.380004e+09</td>\n",
       "      <td>69.66</td>\n",
       "      <td>0.53</td>\n",
       "      <td>6426.674</td>\n",
       "    </tr>\n",
       "    <tr>\n",
       "      <th>199</th>\n",
       "      <td>United States</td>\n",
       "      <td>North America</td>\n",
       "      <td>3.310026e+08</td>\n",
       "      <td>78.86</td>\n",
       "      <td>2.77</td>\n",
       "      <td>54225.446</td>\n",
       "    </tr>\n",
       "    <tr>\n",
       "      <th>91</th>\n",
       "      <td>Indonesia</td>\n",
       "      <td>Asia</td>\n",
       "      <td>2.735236e+08</td>\n",
       "      <td>71.72</td>\n",
       "      <td>1.04</td>\n",
       "      <td>11188.744</td>\n",
       "    </tr>\n",
       "    <tr>\n",
       "      <th>145</th>\n",
       "      <td>Pakistan</td>\n",
       "      <td>Asia</td>\n",
       "      <td>2.208923e+08</td>\n",
       "      <td>67.27</td>\n",
       "      <td>0.60</td>\n",
       "      <td>5034.708</td>\n",
       "    </tr>\n",
       "    <tr>\n",
       "      <th>27</th>\n",
       "      <td>Brazil</td>\n",
       "      <td>South America</td>\n",
       "      <td>2.125594e+08</td>\n",
       "      <td>75.88</td>\n",
       "      <td>2.20</td>\n",
       "      <td>14103.452</td>\n",
       "    </tr>\n",
       "    <tr>\n",
       "      <th>141</th>\n",
       "      <td>Nigeria</td>\n",
       "      <td>Africa</td>\n",
       "      <td>2.061396e+08</td>\n",
       "      <td>54.69</td>\n",
       "      <td>NaN</td>\n",
       "      <td>5338.454</td>\n",
       "    </tr>\n",
       "    <tr>\n",
       "      <th>15</th>\n",
       "      <td>Bangladesh</td>\n",
       "      <td>Asia</td>\n",
       "      <td>1.646894e+08</td>\n",
       "      <td>72.59</td>\n",
       "      <td>0.80</td>\n",
       "      <td>3523.984</td>\n",
       "    </tr>\n",
       "    <tr>\n",
       "      <th>157</th>\n",
       "      <td>Russia</td>\n",
       "      <td>Europe</td>\n",
       "      <td>1.459345e+08</td>\n",
       "      <td>72.58</td>\n",
       "      <td>8.05</td>\n",
       "      <td>24765.954</td>\n",
       "    </tr>\n",
       "    <tr>\n",
       "      <th>125</th>\n",
       "      <td>Mexico</td>\n",
       "      <td>North America</td>\n",
       "      <td>1.289328e+08</td>\n",
       "      <td>75.05</td>\n",
       "      <td>1.38</td>\n",
       "      <td>17336.469</td>\n",
       "    </tr>\n",
       "  </tbody>\n",
       "</table>\n",
       "</div>"
      ],
      "text/plain": [
       "          location      continent    population  life_expectancy  \\\n",
       "41           China           Asia  1.439324e+09            76.91   \n",
       "90           India           Asia  1.380004e+09            69.66   \n",
       "199  United States  North America  3.310026e+08            78.86   \n",
       "91       Indonesia           Asia  2.735236e+08            71.72   \n",
       "145       Pakistan           Asia  2.208923e+08            67.27   \n",
       "27          Brazil  South America  2.125594e+08            75.88   \n",
       "141        Nigeria         Africa  2.061396e+08            54.69   \n",
       "15      Bangladesh           Asia  1.646894e+08            72.59   \n",
       "157         Russia         Europe  1.459345e+08            72.58   \n",
       "125         Mexico  North America  1.289328e+08            75.05   \n",
       "\n",
       "     hospital_beds_per_thousand  gdp_per_capita  \n",
       "41                         4.34       15308.712  \n",
       "90                         0.53        6426.674  \n",
       "199                        2.77       54225.446  \n",
       "91                         1.04       11188.744  \n",
       "145                        0.60        5034.708  \n",
       "27                         2.20       14103.452  \n",
       "141                         NaN        5338.454  \n",
       "15                         0.80        3523.984  \n",
       "157                        8.05       24765.954  \n",
       "125                        1.38       17336.469  "
      ]
     },
     "execution_count": 52,
     "metadata": {},
     "output_type": "execute_result"
    }
   ],
   "source": [
    "most_populous_df"
   ]
  },
  {
   "cell_type": "markdown",
   "id": "1cbd31f1-6720-4eb6-89ab-8bfb8dbcfc9a",
   "metadata": {},
   "source": [
    "**Q5: Add a new column in `countries_df` to record the overall GDP per country (product of population & per capita GDP).**\n",
    "\n"
   ]
  },
  {
   "cell_type": "code",
   "execution_count": 53,
   "id": "ce7eff2c-3194-4b54-985f-052ab35d65a5",
   "metadata": {},
   "outputs": [],
   "source": [
    "countries_df['gdp'] = countries_df['population'] * countries_df['gdp_per_capita']"
   ]
  },
  {
   "cell_type": "code",
   "execution_count": 54,
   "id": "a2df6a9b-bcfb-496e-ae93-a3f6d60db30d",
   "metadata": {},
   "outputs": [
    {
     "data": {
      "text/html": [
       "<div>\n",
       "<style scoped>\n",
       "    .dataframe tbody tr th:only-of-type {\n",
       "        vertical-align: middle;\n",
       "    }\n",
       "\n",
       "    .dataframe tbody tr th {\n",
       "        vertical-align: top;\n",
       "    }\n",
       "\n",
       "    .dataframe thead th {\n",
       "        text-align: right;\n",
       "    }\n",
       "</style>\n",
       "<table border=\"1\" class=\"dataframe\">\n",
       "  <thead>\n",
       "    <tr style=\"text-align: right;\">\n",
       "      <th></th>\n",
       "      <th>location</th>\n",
       "      <th>continent</th>\n",
       "      <th>population</th>\n",
       "      <th>life_expectancy</th>\n",
       "      <th>hospital_beds_per_thousand</th>\n",
       "      <th>gdp_per_capita</th>\n",
       "      <th>gdp</th>\n",
       "    </tr>\n",
       "  </thead>\n",
       "  <tbody>\n",
       "    <tr>\n",
       "      <th>41</th>\n",
       "      <td>China</td>\n",
       "      <td>Asia</td>\n",
       "      <td>1.439324e+09</td>\n",
       "      <td>76.91</td>\n",
       "      <td>4.34</td>\n",
       "      <td>15308.712</td>\n",
       "      <td>2.203419e+13</td>\n",
       "    </tr>\n",
       "    <tr>\n",
       "      <th>199</th>\n",
       "      <td>United States</td>\n",
       "      <td>North America</td>\n",
       "      <td>3.310026e+08</td>\n",
       "      <td>78.86</td>\n",
       "      <td>2.77</td>\n",
       "      <td>54225.446</td>\n",
       "      <td>1.794877e+13</td>\n",
       "    </tr>\n",
       "    <tr>\n",
       "      <th>90</th>\n",
       "      <td>India</td>\n",
       "      <td>Asia</td>\n",
       "      <td>1.380004e+09</td>\n",
       "      <td>69.66</td>\n",
       "      <td>0.53</td>\n",
       "      <td>6426.674</td>\n",
       "      <td>8.868838e+12</td>\n",
       "    </tr>\n",
       "    <tr>\n",
       "      <th>99</th>\n",
       "      <td>Japan</td>\n",
       "      <td>Asia</td>\n",
       "      <td>1.264765e+08</td>\n",
       "      <td>84.63</td>\n",
       "      <td>13.05</td>\n",
       "      <td>39002.223</td>\n",
       "      <td>4.932863e+12</td>\n",
       "    </tr>\n",
       "    <tr>\n",
       "      <th>73</th>\n",
       "      <td>Germany</td>\n",
       "      <td>Europe</td>\n",
       "      <td>8.378394e+07</td>\n",
       "      <td>81.33</td>\n",
       "      <td>8.00</td>\n",
       "      <td>45229.245</td>\n",
       "      <td>3.789485e+12</td>\n",
       "    </tr>\n",
       "    <tr>\n",
       "      <th>157</th>\n",
       "      <td>Russia</td>\n",
       "      <td>Europe</td>\n",
       "      <td>1.459345e+08</td>\n",
       "      <td>72.58</td>\n",
       "      <td>8.05</td>\n",
       "      <td>24765.954</td>\n",
       "      <td>3.614206e+12</td>\n",
       "    </tr>\n",
       "    <tr>\n",
       "      <th>91</th>\n",
       "      <td>Indonesia</td>\n",
       "      <td>Asia</td>\n",
       "      <td>2.735236e+08</td>\n",
       "      <td>71.72</td>\n",
       "      <td>1.04</td>\n",
       "      <td>11188.744</td>\n",
       "      <td>3.060386e+12</td>\n",
       "    </tr>\n",
       "    <tr>\n",
       "      <th>27</th>\n",
       "      <td>Brazil</td>\n",
       "      <td>South America</td>\n",
       "      <td>2.125594e+08</td>\n",
       "      <td>75.88</td>\n",
       "      <td>2.20</td>\n",
       "      <td>14103.452</td>\n",
       "      <td>2.997821e+12</td>\n",
       "    </tr>\n",
       "    <tr>\n",
       "      <th>198</th>\n",
       "      <td>United Kingdom</td>\n",
       "      <td>Europe</td>\n",
       "      <td>6.788600e+07</td>\n",
       "      <td>81.32</td>\n",
       "      <td>2.54</td>\n",
       "      <td>39753.244</td>\n",
       "      <td>2.698689e+12</td>\n",
       "    </tr>\n",
       "    <tr>\n",
       "      <th>68</th>\n",
       "      <td>France</td>\n",
       "      <td>Europe</td>\n",
       "      <td>6.527351e+07</td>\n",
       "      <td>82.66</td>\n",
       "      <td>5.98</td>\n",
       "      <td>38605.671</td>\n",
       "      <td>2.519928e+12</td>\n",
       "    </tr>\n",
       "  </tbody>\n",
       "</table>\n",
       "</div>"
      ],
      "text/plain": [
       "           location      continent    population  life_expectancy  \\\n",
       "41            China           Asia  1.439324e+09            76.91   \n",
       "199   United States  North America  3.310026e+08            78.86   \n",
       "90            India           Asia  1.380004e+09            69.66   \n",
       "99            Japan           Asia  1.264765e+08            84.63   \n",
       "73          Germany         Europe  8.378394e+07            81.33   \n",
       "157          Russia         Europe  1.459345e+08            72.58   \n",
       "91        Indonesia           Asia  2.735236e+08            71.72   \n",
       "27           Brazil  South America  2.125594e+08            75.88   \n",
       "198  United Kingdom         Europe  6.788600e+07            81.32   \n",
       "68           France         Europe  6.527351e+07            82.66   \n",
       "\n",
       "     hospital_beds_per_thousand  gdp_per_capita           gdp  \n",
       "41                         4.34       15308.712  2.203419e+13  \n",
       "199                        2.77       54225.446  1.794877e+13  \n",
       "90                         0.53        6426.674  8.868838e+12  \n",
       "99                        13.05       39002.223  4.932863e+12  \n",
       "73                         8.00       45229.245  3.789485e+12  \n",
       "157                        8.05       24765.954  3.614206e+12  \n",
       "91                         1.04       11188.744  3.060386e+12  \n",
       "27                         2.20       14103.452  2.997821e+12  \n",
       "198                        2.54       39753.244  2.698689e+12  \n",
       "68                         5.98       38605.671  2.519928e+12  "
      ]
     },
     "execution_count": 54,
     "metadata": {},
     "output_type": "execute_result"
    }
   ],
   "source": [
    "countries_df.sort_values(by=['gdp'], ascending=False).head(10)"
   ]
  },
  {
   "cell_type": "markdown",
   "id": "7c09a87c-e079-4a01-8d77-a908ba06bd9a",
   "metadata": {},
   "source": [
    "**Q - VG: Create a dataframe containing 10 countries with the lowest GDP per capita, among the countries with a population greater than 100 million.**"
   ]
  },
  {
   "cell_type": "code",
   "execution_count": 55,
   "id": "7d41680f-5ce4-4fb5-897a-87685a1dc9b8",
   "metadata": {},
   "outputs": [],
   "source": [
    "sorted_gdp_df = countries_df.sort_values(by=['gdp_per_capita'], ascending=True)\n",
    "gdp_population_df = sorted_gdp_df.loc[(sorted_gdp_df['population']>= 1e6)].head(10)"
   ]
  },
  {
   "cell_type": "code",
   "execution_count": 56,
   "id": "381d8f85-b57f-4fc2-8120-ca6573f62471",
   "metadata": {},
   "outputs": [
    {
     "data": {
      "text/html": [
       "<div>\n",
       "<style scoped>\n",
       "    .dataframe tbody tr th:only-of-type {\n",
       "        vertical-align: middle;\n",
       "    }\n",
       "\n",
       "    .dataframe tbody tr th {\n",
       "        vertical-align: top;\n",
       "    }\n",
       "\n",
       "    .dataframe thead th {\n",
       "        text-align: right;\n",
       "    }\n",
       "</style>\n",
       "<table border=\"1\" class=\"dataframe\">\n",
       "  <thead>\n",
       "    <tr style=\"text-align: right;\">\n",
       "      <th></th>\n",
       "      <th>location</th>\n",
       "      <th>continent</th>\n",
       "      <th>population</th>\n",
       "      <th>life_expectancy</th>\n",
       "      <th>hospital_beds_per_thousand</th>\n",
       "      <th>gdp_per_capita</th>\n",
       "      <th>gdp</th>\n",
       "    </tr>\n",
       "  </thead>\n",
       "  <tbody>\n",
       "    <tr>\n",
       "      <th>38</th>\n",
       "      <td>Central African Republic</td>\n",
       "      <td>Africa</td>\n",
       "      <td>4829764.0</td>\n",
       "      <td>53.28</td>\n",
       "      <td>1.0</td>\n",
       "      <td>661.240</td>\n",
       "      <td>3.193633e+09</td>\n",
       "    </tr>\n",
       "    <tr>\n",
       "      <th>111</th>\n",
       "      <td>Liberia</td>\n",
       "      <td>Africa</td>\n",
       "      <td>5057677.0</td>\n",
       "      <td>64.10</td>\n",
       "      <td>0.8</td>\n",
       "      <td>752.788</td>\n",
       "      <td>3.807359e+09</td>\n",
       "    </tr>\n",
       "    <tr>\n",
       "      <th>168</th>\n",
       "      <td>Sierra Leone</td>\n",
       "      <td>Africa</td>\n",
       "      <td>7976985.0</td>\n",
       "      <td>54.70</td>\n",
       "      <td>NaN</td>\n",
       "      <td>1390.300</td>\n",
       "      <td>1.109040e+10</td>\n",
       "    </tr>\n",
       "    <tr>\n",
       "      <th>190</th>\n",
       "      <td>Togo</td>\n",
       "      <td>Africa</td>\n",
       "      <td>8278737.0</td>\n",
       "      <td>61.04</td>\n",
       "      <td>0.7</td>\n",
       "      <td>1429.813</td>\n",
       "      <td>1.183705e+10</td>\n",
       "    </tr>\n",
       "    <tr>\n",
       "      <th>32</th>\n",
       "      <td>Burundi</td>\n",
       "      <td>Africa</td>\n",
       "      <td>11890781.0</td>\n",
       "      <td>61.58</td>\n",
       "      <td>0.8</td>\n",
       "      <td>702.225</td>\n",
       "      <td>8.350004e+09</td>\n",
       "    </tr>\n",
       "    <tr>\n",
       "      <th>118</th>\n",
       "      <td>Malawi</td>\n",
       "      <td>Africa</td>\n",
       "      <td>19129955.0</td>\n",
       "      <td>64.26</td>\n",
       "      <td>1.3</td>\n",
       "      <td>1095.042</td>\n",
       "      <td>2.094810e+10</td>\n",
       "    </tr>\n",
       "    <tr>\n",
       "      <th>140</th>\n",
       "      <td>Niger</td>\n",
       "      <td>Africa</td>\n",
       "      <td>24206636.0</td>\n",
       "      <td>62.42</td>\n",
       "      <td>0.3</td>\n",
       "      <td>926.000</td>\n",
       "      <td>2.241534e+10</td>\n",
       "    </tr>\n",
       "    <tr>\n",
       "      <th>117</th>\n",
       "      <td>Madagascar</td>\n",
       "      <td>Africa</td>\n",
       "      <td>27691019.0</td>\n",
       "      <td>67.04</td>\n",
       "      <td>0.2</td>\n",
       "      <td>1416.440</td>\n",
       "      <td>3.922267e+10</td>\n",
       "    </tr>\n",
       "    <tr>\n",
       "      <th>132</th>\n",
       "      <td>Mozambique</td>\n",
       "      <td>Africa</td>\n",
       "      <td>31255435.0</td>\n",
       "      <td>60.85</td>\n",
       "      <td>0.7</td>\n",
       "      <td>1136.103</td>\n",
       "      <td>3.550939e+10</td>\n",
       "    </tr>\n",
       "    <tr>\n",
       "      <th>52</th>\n",
       "      <td>Democratic Republic of Congo</td>\n",
       "      <td>Africa</td>\n",
       "      <td>89561404.0</td>\n",
       "      <td>60.68</td>\n",
       "      <td>NaN</td>\n",
       "      <td>808.133</td>\n",
       "      <td>7.237753e+10</td>\n",
       "    </tr>\n",
       "  </tbody>\n",
       "</table>\n",
       "</div>"
      ],
      "text/plain": [
       "                         location continent  population  life_expectancy  \\\n",
       "38       Central African Republic    Africa   4829764.0            53.28   \n",
       "111                       Liberia    Africa   5057677.0            64.10   \n",
       "168                  Sierra Leone    Africa   7976985.0            54.70   \n",
       "190                          Togo    Africa   8278737.0            61.04   \n",
       "32                        Burundi    Africa  11890781.0            61.58   \n",
       "118                        Malawi    Africa  19129955.0            64.26   \n",
       "140                         Niger    Africa  24206636.0            62.42   \n",
       "117                    Madagascar    Africa  27691019.0            67.04   \n",
       "132                    Mozambique    Africa  31255435.0            60.85   \n",
       "52   Democratic Republic of Congo    Africa  89561404.0            60.68   \n",
       "\n",
       "     hospital_beds_per_thousand  gdp_per_capita           gdp  \n",
       "38                          1.0         661.240  3.193633e+09  \n",
       "111                         0.8         752.788  3.807359e+09  \n",
       "168                         NaN        1390.300  1.109040e+10  \n",
       "190                         0.7        1429.813  1.183705e+10  \n",
       "32                          0.8         702.225  8.350004e+09  \n",
       "118                         1.3        1095.042  2.094810e+10  \n",
       "140                         0.3         926.000  2.241534e+10  \n",
       "117                         0.2        1416.440  3.922267e+10  \n",
       "132                         0.7        1136.103  3.550939e+10  \n",
       "52                          NaN         808.133  7.237753e+10  "
      ]
     },
     "execution_count": 56,
     "metadata": {},
     "output_type": "execute_result"
    }
   ],
   "source": [
    "gdp_population_df.sort_values(by=['population'], ascending=True)"
   ]
  },
  {
   "cell_type": "markdown",
   "id": "12bf6da3-2d0d-43a6-b893-7129c14eb2e4",
   "metadata": {},
   "source": [
    "**Q6: Create a DataFrame that counts the number countries on each continent?**\n",
    "\n",
    "*Hint: `groupby`.*"
   ]
  },
  {
   "cell_type": "code",
   "execution_count": 57,
   "id": "7e298911-32e8-4e80-9936-4c318a56619b",
   "metadata": {},
   "outputs": [],
   "source": [
    "country_counts_df = countries_df.groupby('continent')['location'].count()"
   ]
  },
  {
   "cell_type": "code",
   "execution_count": 58,
   "id": "17580c46-d69b-4049-b901-923302f75076",
   "metadata": {},
   "outputs": [
    {
     "data": {
      "text/plain": [
       "continent\n",
       "Africa           55\n",
       "Asia             47\n",
       "Europe           51\n",
       "North America    36\n",
       "Oceania           8\n",
       "South America    13\n",
       "Name: location, dtype: int64"
      ]
     },
     "execution_count": 58,
     "metadata": {},
     "output_type": "execute_result"
    }
   ],
   "source": [
    "country_counts_df"
   ]
  },
  {
   "cell_type": "markdown",
   "id": "b3d0de08-9eaf-46a2-82c2-38d2fba14e42",
   "metadata": {},
   "source": [
    "**Q7: Create a data frame showing the total population of each continent.**"
   ]
  },
  {
   "cell_type": "code",
   "execution_count": 59,
   "id": "abe828e4-b802-4d2b-ac10-cc1e1fbcf8ea",
   "metadata": {},
   "outputs": [],
   "source": [
    "continent_populations_df = countries_df.groupby('continent')['population'].sum()"
   ]
  },
  {
   "cell_type": "code",
   "execution_count": 60,
   "id": "383256de-0de8-45cd-afd4-641ae692c37d",
   "metadata": {},
   "outputs": [
    {
     "data": {
      "text/plain": [
       "continent\n",
       "Africa           1.339424e+09\n",
       "Asia             4.607388e+09\n",
       "Europe           7.485062e+08\n",
       "North America    5.912425e+08\n",
       "Oceania          4.095832e+07\n",
       "South America    4.304611e+08\n",
       "Name: population, dtype: float64"
      ]
     },
     "execution_count": 60,
     "metadata": {},
     "output_type": "execute_result"
    }
   ],
   "source": [
    "continent_populations_df"
   ]
  },
  {
   "cell_type": "markdown",
   "id": "1805c121-be08-4c2a-b50b-fa7a7d76fbf9",
   "metadata": {},
   "source": [
    "Next, use the CSV file containing overall Covid-19 stats for various countires, and read the data into another Pandas data frame."
   ]
  },
  {
   "cell_type": "code",
   "execution_count": 61,
   "id": "01fef65c-20c5-4026-96b7-85ad1bb99d81",
   "metadata": {},
   "outputs": [],
   "source": [
    "covid_data_df = pd.read_csv('resources/covid-countries-data.csv')"
   ]
  },
  {
   "cell_type": "code",
   "execution_count": 62,
   "id": "89818918-f3d4-4a2b-8212-2e5d28c02eef",
   "metadata": {
    "scrolled": true
   },
   "outputs": [
    {
     "data": {
      "text/html": [
       "<div>\n",
       "<style scoped>\n",
       "    .dataframe tbody tr th:only-of-type {\n",
       "        vertical-align: middle;\n",
       "    }\n",
       "\n",
       "    .dataframe tbody tr th {\n",
       "        vertical-align: top;\n",
       "    }\n",
       "\n",
       "    .dataframe thead th {\n",
       "        text-align: right;\n",
       "    }\n",
       "</style>\n",
       "<table border=\"1\" class=\"dataframe\">\n",
       "  <thead>\n",
       "    <tr style=\"text-align: right;\">\n",
       "      <th></th>\n",
       "      <th>location</th>\n",
       "      <th>total_cases</th>\n",
       "      <th>total_deaths</th>\n",
       "      <th>total_tests</th>\n",
       "    </tr>\n",
       "  </thead>\n",
       "  <tbody>\n",
       "    <tr>\n",
       "      <th>0</th>\n",
       "      <td>Afghanistan</td>\n",
       "      <td>38243.0</td>\n",
       "      <td>1409.0</td>\n",
       "      <td>NaN</td>\n",
       "    </tr>\n",
       "    <tr>\n",
       "      <th>1</th>\n",
       "      <td>Albania</td>\n",
       "      <td>9728.0</td>\n",
       "      <td>296.0</td>\n",
       "      <td>NaN</td>\n",
       "    </tr>\n",
       "    <tr>\n",
       "      <th>2</th>\n",
       "      <td>Algeria</td>\n",
       "      <td>45158.0</td>\n",
       "      <td>1525.0</td>\n",
       "      <td>NaN</td>\n",
       "    </tr>\n",
       "    <tr>\n",
       "      <th>3</th>\n",
       "      <td>Andorra</td>\n",
       "      <td>1199.0</td>\n",
       "      <td>53.0</td>\n",
       "      <td>NaN</td>\n",
       "    </tr>\n",
       "    <tr>\n",
       "      <th>4</th>\n",
       "      <td>Angola</td>\n",
       "      <td>2729.0</td>\n",
       "      <td>109.0</td>\n",
       "      <td>NaN</td>\n",
       "    </tr>\n",
       "    <tr>\n",
       "      <th>...</th>\n",
       "      <td>...</td>\n",
       "      <td>...</td>\n",
       "      <td>...</td>\n",
       "      <td>...</td>\n",
       "    </tr>\n",
       "    <tr>\n",
       "      <th>207</th>\n",
       "      <td>Western Sahara</td>\n",
       "      <td>766.0</td>\n",
       "      <td>1.0</td>\n",
       "      <td>NaN</td>\n",
       "    </tr>\n",
       "    <tr>\n",
       "      <th>208</th>\n",
       "      <td>World</td>\n",
       "      <td>26059065.0</td>\n",
       "      <td>863535.0</td>\n",
       "      <td>NaN</td>\n",
       "    </tr>\n",
       "    <tr>\n",
       "      <th>209</th>\n",
       "      <td>Yemen</td>\n",
       "      <td>1976.0</td>\n",
       "      <td>571.0</td>\n",
       "      <td>NaN</td>\n",
       "    </tr>\n",
       "    <tr>\n",
       "      <th>210</th>\n",
       "      <td>Zambia</td>\n",
       "      <td>12415.0</td>\n",
       "      <td>292.0</td>\n",
       "      <td>NaN</td>\n",
       "    </tr>\n",
       "    <tr>\n",
       "      <th>211</th>\n",
       "      <td>Zimbabwe</td>\n",
       "      <td>6638.0</td>\n",
       "      <td>206.0</td>\n",
       "      <td>97272.0</td>\n",
       "    </tr>\n",
       "  </tbody>\n",
       "</table>\n",
       "<p>212 rows × 4 columns</p>\n",
       "</div>"
      ],
      "text/plain": [
       "           location  total_cases  total_deaths  total_tests\n",
       "0       Afghanistan      38243.0        1409.0          NaN\n",
       "1           Albania       9728.0         296.0          NaN\n",
       "2           Algeria      45158.0        1525.0          NaN\n",
       "3           Andorra       1199.0          53.0          NaN\n",
       "4            Angola       2729.0         109.0          NaN\n",
       "..              ...          ...           ...          ...\n",
       "207  Western Sahara        766.0           1.0          NaN\n",
       "208           World   26059065.0      863535.0          NaN\n",
       "209           Yemen       1976.0         571.0          NaN\n",
       "210          Zambia      12415.0         292.0          NaN\n",
       "211        Zimbabwe       6638.0         206.0      97272.0\n",
       "\n",
       "[212 rows x 4 columns]"
      ]
     },
     "execution_count": 62,
     "metadata": {},
     "output_type": "execute_result"
    }
   ],
   "source": [
    "covid_data_df"
   ]
  },
  {
   "cell_type": "markdown",
   "id": "179ba1f1-6d29-4758-b7ea-3c57b74da4ed",
   "metadata": {},
   "source": [
    "**Q8: Count the number of countries for which the `total_tests` data is missing.**\n"
   ]
  },
  {
   "cell_type": "code",
   "execution_count": 63,
   "id": "4b17e544-3ca3-4921-a545-335c3096346f",
   "metadata": {},
   "outputs": [],
   "source": [
    "total_tests_missing = covid_data_df['total_tests'].isna().sum()"
   ]
  },
  {
   "cell_type": "code",
   "execution_count": 64,
   "id": "f91b5c69-1b75-4d87-877b-0f77a8c07f3b",
   "metadata": {},
   "outputs": [
    {
     "name": "stdout",
     "output_type": "stream",
     "text": [
      "Data for total tests is missing for 122 countries in the set.\n"
     ]
    }
   ],
   "source": [
    "print(\"Data for total tests is missing for {0} countries in the set.\".format(int(total_tests_missing)))"
   ]
  },
  {
   "cell_type": "markdown",
   "id": "fb68538e-31de-46f4-90ca-41a867595caa",
   "metadata": {},
   "source": [
    "Let's merge the two data frames, and compute some more metrics.\n",
    "\n",
    "**Q9: Merge `countries_df` with `covid_data_df` on the `location` column.**\n"
   ]
  },
  {
   "cell_type": "code",
   "execution_count": 65,
   "id": "63d43a4c-4a10-4801-9878-d92c366dc249",
   "metadata": {},
   "outputs": [],
   "source": [
    "combined_df = pd.merge(countries_df, covid_data_df, on='location')"
   ]
  },
  {
   "cell_type": "code",
   "execution_count": 66,
   "id": "a956cfcc-b140-4f2a-9ccd-0c12ec9a6650",
   "metadata": {},
   "outputs": [
    {
     "data": {
      "text/html": [
       "<div>\n",
       "<style scoped>\n",
       "    .dataframe tbody tr th:only-of-type {\n",
       "        vertical-align: middle;\n",
       "    }\n",
       "\n",
       "    .dataframe tbody tr th {\n",
       "        vertical-align: top;\n",
       "    }\n",
       "\n",
       "    .dataframe thead th {\n",
       "        text-align: right;\n",
       "    }\n",
       "</style>\n",
       "<table border=\"1\" class=\"dataframe\">\n",
       "  <thead>\n",
       "    <tr style=\"text-align: right;\">\n",
       "      <th></th>\n",
       "      <th>location</th>\n",
       "      <th>continent</th>\n",
       "      <th>population</th>\n",
       "      <th>life_expectancy</th>\n",
       "      <th>hospital_beds_per_thousand</th>\n",
       "      <th>gdp_per_capita</th>\n",
       "      <th>gdp</th>\n",
       "      <th>total_cases</th>\n",
       "      <th>total_deaths</th>\n",
       "      <th>total_tests</th>\n",
       "    </tr>\n",
       "  </thead>\n",
       "  <tbody>\n",
       "    <tr>\n",
       "      <th>0</th>\n",
       "      <td>Afghanistan</td>\n",
       "      <td>Asia</td>\n",
       "      <td>38928341.0</td>\n",
       "      <td>64.83</td>\n",
       "      <td>0.50</td>\n",
       "      <td>1803.987</td>\n",
       "      <td>7.022622e+10</td>\n",
       "      <td>38243.0</td>\n",
       "      <td>1409.0</td>\n",
       "      <td>NaN</td>\n",
       "    </tr>\n",
       "    <tr>\n",
       "      <th>1</th>\n",
       "      <td>Albania</td>\n",
       "      <td>Europe</td>\n",
       "      <td>2877800.0</td>\n",
       "      <td>78.57</td>\n",
       "      <td>2.89</td>\n",
       "      <td>11803.431</td>\n",
       "      <td>3.396791e+10</td>\n",
       "      <td>9728.0</td>\n",
       "      <td>296.0</td>\n",
       "      <td>NaN</td>\n",
       "    </tr>\n",
       "    <tr>\n",
       "      <th>2</th>\n",
       "      <td>Algeria</td>\n",
       "      <td>Africa</td>\n",
       "      <td>43851043.0</td>\n",
       "      <td>76.88</td>\n",
       "      <td>1.90</td>\n",
       "      <td>13913.839</td>\n",
       "      <td>6.101364e+11</td>\n",
       "      <td>45158.0</td>\n",
       "      <td>1525.0</td>\n",
       "      <td>NaN</td>\n",
       "    </tr>\n",
       "    <tr>\n",
       "      <th>3</th>\n",
       "      <td>Andorra</td>\n",
       "      <td>Europe</td>\n",
       "      <td>77265.0</td>\n",
       "      <td>83.73</td>\n",
       "      <td>NaN</td>\n",
       "      <td>NaN</td>\n",
       "      <td>NaN</td>\n",
       "      <td>1199.0</td>\n",
       "      <td>53.0</td>\n",
       "      <td>NaN</td>\n",
       "    </tr>\n",
       "    <tr>\n",
       "      <th>4</th>\n",
       "      <td>Angola</td>\n",
       "      <td>Africa</td>\n",
       "      <td>32866268.0</td>\n",
       "      <td>61.15</td>\n",
       "      <td>NaN</td>\n",
       "      <td>5819.495</td>\n",
       "      <td>1.912651e+11</td>\n",
       "      <td>2729.0</td>\n",
       "      <td>109.0</td>\n",
       "      <td>NaN</td>\n",
       "    </tr>\n",
       "    <tr>\n",
       "      <th>...</th>\n",
       "      <td>...</td>\n",
       "      <td>...</td>\n",
       "      <td>...</td>\n",
       "      <td>...</td>\n",
       "      <td>...</td>\n",
       "      <td>...</td>\n",
       "      <td>...</td>\n",
       "      <td>...</td>\n",
       "      <td>...</td>\n",
       "      <td>...</td>\n",
       "    </tr>\n",
       "    <tr>\n",
       "      <th>205</th>\n",
       "      <td>Vietnam</td>\n",
       "      <td>Asia</td>\n",
       "      <td>97338583.0</td>\n",
       "      <td>75.40</td>\n",
       "      <td>2.60</td>\n",
       "      <td>6171.884</td>\n",
       "      <td>6.007624e+11</td>\n",
       "      <td>1046.0</td>\n",
       "      <td>35.0</td>\n",
       "      <td>261004.0</td>\n",
       "    </tr>\n",
       "    <tr>\n",
       "      <th>206</th>\n",
       "      <td>Western Sahara</td>\n",
       "      <td>Africa</td>\n",
       "      <td>597330.0</td>\n",
       "      <td>70.26</td>\n",
       "      <td>NaN</td>\n",
       "      <td>NaN</td>\n",
       "      <td>NaN</td>\n",
       "      <td>766.0</td>\n",
       "      <td>1.0</td>\n",
       "      <td>NaN</td>\n",
       "    </tr>\n",
       "    <tr>\n",
       "      <th>207</th>\n",
       "      <td>Yemen</td>\n",
       "      <td>Asia</td>\n",
       "      <td>29825968.0</td>\n",
       "      <td>66.12</td>\n",
       "      <td>0.70</td>\n",
       "      <td>1479.147</td>\n",
       "      <td>4.411699e+10</td>\n",
       "      <td>1976.0</td>\n",
       "      <td>571.0</td>\n",
       "      <td>NaN</td>\n",
       "    </tr>\n",
       "    <tr>\n",
       "      <th>208</th>\n",
       "      <td>Zambia</td>\n",
       "      <td>Africa</td>\n",
       "      <td>18383956.0</td>\n",
       "      <td>63.89</td>\n",
       "      <td>2.00</td>\n",
       "      <td>3689.251</td>\n",
       "      <td>6.782303e+10</td>\n",
       "      <td>12415.0</td>\n",
       "      <td>292.0</td>\n",
       "      <td>NaN</td>\n",
       "    </tr>\n",
       "    <tr>\n",
       "      <th>209</th>\n",
       "      <td>Zimbabwe</td>\n",
       "      <td>Africa</td>\n",
       "      <td>14862927.0</td>\n",
       "      <td>61.49</td>\n",
       "      <td>1.70</td>\n",
       "      <td>1899.775</td>\n",
       "      <td>2.823622e+10</td>\n",
       "      <td>6638.0</td>\n",
       "      <td>206.0</td>\n",
       "      <td>97272.0</td>\n",
       "    </tr>\n",
       "  </tbody>\n",
       "</table>\n",
       "<p>210 rows × 10 columns</p>\n",
       "</div>"
      ],
      "text/plain": [
       "           location continent  population  life_expectancy  \\\n",
       "0       Afghanistan      Asia  38928341.0            64.83   \n",
       "1           Albania    Europe   2877800.0            78.57   \n",
       "2           Algeria    Africa  43851043.0            76.88   \n",
       "3           Andorra    Europe     77265.0            83.73   \n",
       "4            Angola    Africa  32866268.0            61.15   \n",
       "..              ...       ...         ...              ...   \n",
       "205         Vietnam      Asia  97338583.0            75.40   \n",
       "206  Western Sahara    Africa    597330.0            70.26   \n",
       "207           Yemen      Asia  29825968.0            66.12   \n",
       "208          Zambia    Africa  18383956.0            63.89   \n",
       "209        Zimbabwe    Africa  14862927.0            61.49   \n",
       "\n",
       "     hospital_beds_per_thousand  gdp_per_capita           gdp  total_cases  \\\n",
       "0                          0.50        1803.987  7.022622e+10      38243.0   \n",
       "1                          2.89       11803.431  3.396791e+10       9728.0   \n",
       "2                          1.90       13913.839  6.101364e+11      45158.0   \n",
       "3                           NaN             NaN           NaN       1199.0   \n",
       "4                           NaN        5819.495  1.912651e+11       2729.0   \n",
       "..                          ...             ...           ...          ...   \n",
       "205                        2.60        6171.884  6.007624e+11       1046.0   \n",
       "206                         NaN             NaN           NaN        766.0   \n",
       "207                        0.70        1479.147  4.411699e+10       1976.0   \n",
       "208                        2.00        3689.251  6.782303e+10      12415.0   \n",
       "209                        1.70        1899.775  2.823622e+10       6638.0   \n",
       "\n",
       "     total_deaths  total_tests  \n",
       "0          1409.0          NaN  \n",
       "1           296.0          NaN  \n",
       "2          1525.0          NaN  \n",
       "3            53.0          NaN  \n",
       "4           109.0          NaN  \n",
       "..            ...          ...  \n",
       "205          35.0     261004.0  \n",
       "206           1.0          NaN  \n",
       "207         571.0          NaN  \n",
       "208         292.0          NaN  \n",
       "209         206.0      97272.0  \n",
       "\n",
       "[210 rows x 10 columns]"
      ]
     },
     "execution_count": 66,
     "metadata": {},
     "output_type": "execute_result"
    }
   ],
   "source": [
    "combined_df"
   ]
  },
  {
   "cell_type": "markdown",
   "id": "f6c20bcc-37e3-49fa-8b03-c5a0211c6e17",
   "metadata": {},
   "source": [
    "**Q10: Add columns `tests_per_million`, `cases_per_million` and `deaths_per_million` into `combined_df`.**"
   ]
  },
  {
   "cell_type": "code",
   "execution_count": 67,
   "id": "3562523e-ab38-4418-93c7-2f0eceaaf190",
   "metadata": {},
   "outputs": [],
   "source": [
    "combined_df['tests_per_million'] = combined_df['total_tests'] * 1e6 / combined_df['population']"
   ]
  },
  {
   "cell_type": "code",
   "execution_count": 68,
   "id": "0f9a33d3-8d00-4263-88d4-7e55b36406b5",
   "metadata": {},
   "outputs": [],
   "source": [
    "combined_df['cases_per_million'] = combined_df['total_cases'] * 1e6 / combined_df['population']"
   ]
  },
  {
   "cell_type": "code",
   "execution_count": 69,
   "id": "116b5a50-3cbc-423f-b877-19893af19ec8",
   "metadata": {},
   "outputs": [],
   "source": [
    "combined_df['deaths_per_million'] = combined_df['total_deaths'] * 1e6 / combined_df['population']"
   ]
  },
  {
   "cell_type": "code",
   "execution_count": 70,
   "id": "4d6bfd87-b8f5-4524-b7d9-30408db5faf8",
   "metadata": {},
   "outputs": [
    {
     "data": {
      "text/html": [
       "<div>\n",
       "<style scoped>\n",
       "    .dataframe tbody tr th:only-of-type {\n",
       "        vertical-align: middle;\n",
       "    }\n",
       "\n",
       "    .dataframe tbody tr th {\n",
       "        vertical-align: top;\n",
       "    }\n",
       "\n",
       "    .dataframe thead th {\n",
       "        text-align: right;\n",
       "    }\n",
       "</style>\n",
       "<table border=\"1\" class=\"dataframe\">\n",
       "  <thead>\n",
       "    <tr style=\"text-align: right;\">\n",
       "      <th></th>\n",
       "      <th>location</th>\n",
       "      <th>continent</th>\n",
       "      <th>population</th>\n",
       "      <th>life_expectancy</th>\n",
       "      <th>hospital_beds_per_thousand</th>\n",
       "      <th>gdp_per_capita</th>\n",
       "      <th>gdp</th>\n",
       "      <th>total_cases</th>\n",
       "      <th>total_deaths</th>\n",
       "      <th>total_tests</th>\n",
       "      <th>tests_per_million</th>\n",
       "      <th>cases_per_million</th>\n",
       "      <th>deaths_per_million</th>\n",
       "    </tr>\n",
       "  </thead>\n",
       "  <tbody>\n",
       "    <tr>\n",
       "      <th>0</th>\n",
       "      <td>Afghanistan</td>\n",
       "      <td>Asia</td>\n",
       "      <td>38928341.0</td>\n",
       "      <td>64.83</td>\n",
       "      <td>0.50</td>\n",
       "      <td>1803.987</td>\n",
       "      <td>7.022622e+10</td>\n",
       "      <td>38243.0</td>\n",
       "      <td>1409.0</td>\n",
       "      <td>NaN</td>\n",
       "      <td>NaN</td>\n",
       "      <td>982.394806</td>\n",
       "      <td>36.194710</td>\n",
       "    </tr>\n",
       "    <tr>\n",
       "      <th>1</th>\n",
       "      <td>Albania</td>\n",
       "      <td>Europe</td>\n",
       "      <td>2877800.0</td>\n",
       "      <td>78.57</td>\n",
       "      <td>2.89</td>\n",
       "      <td>11803.431</td>\n",
       "      <td>3.396791e+10</td>\n",
       "      <td>9728.0</td>\n",
       "      <td>296.0</td>\n",
       "      <td>NaN</td>\n",
       "      <td>NaN</td>\n",
       "      <td>3380.359997</td>\n",
       "      <td>102.856349</td>\n",
       "    </tr>\n",
       "    <tr>\n",
       "      <th>2</th>\n",
       "      <td>Algeria</td>\n",
       "      <td>Africa</td>\n",
       "      <td>43851043.0</td>\n",
       "      <td>76.88</td>\n",
       "      <td>1.90</td>\n",
       "      <td>13913.839</td>\n",
       "      <td>6.101364e+11</td>\n",
       "      <td>45158.0</td>\n",
       "      <td>1525.0</td>\n",
       "      <td>NaN</td>\n",
       "      <td>NaN</td>\n",
       "      <td>1029.804468</td>\n",
       "      <td>34.776824</td>\n",
       "    </tr>\n",
       "    <tr>\n",
       "      <th>3</th>\n",
       "      <td>Andorra</td>\n",
       "      <td>Europe</td>\n",
       "      <td>77265.0</td>\n",
       "      <td>83.73</td>\n",
       "      <td>NaN</td>\n",
       "      <td>NaN</td>\n",
       "      <td>NaN</td>\n",
       "      <td>1199.0</td>\n",
       "      <td>53.0</td>\n",
       "      <td>NaN</td>\n",
       "      <td>NaN</td>\n",
       "      <td>15518.022390</td>\n",
       "      <td>685.950948</td>\n",
       "    </tr>\n",
       "    <tr>\n",
       "      <th>4</th>\n",
       "      <td>Angola</td>\n",
       "      <td>Africa</td>\n",
       "      <td>32866268.0</td>\n",
       "      <td>61.15</td>\n",
       "      <td>NaN</td>\n",
       "      <td>5819.495</td>\n",
       "      <td>1.912651e+11</td>\n",
       "      <td>2729.0</td>\n",
       "      <td>109.0</td>\n",
       "      <td>NaN</td>\n",
       "      <td>NaN</td>\n",
       "      <td>83.033462</td>\n",
       "      <td>3.316470</td>\n",
       "    </tr>\n",
       "    <tr>\n",
       "      <th>...</th>\n",
       "      <td>...</td>\n",
       "      <td>...</td>\n",
       "      <td>...</td>\n",
       "      <td>...</td>\n",
       "      <td>...</td>\n",
       "      <td>...</td>\n",
       "      <td>...</td>\n",
       "      <td>...</td>\n",
       "      <td>...</td>\n",
       "      <td>...</td>\n",
       "      <td>...</td>\n",
       "      <td>...</td>\n",
       "      <td>...</td>\n",
       "    </tr>\n",
       "    <tr>\n",
       "      <th>205</th>\n",
       "      <td>Vietnam</td>\n",
       "      <td>Asia</td>\n",
       "      <td>97338583.0</td>\n",
       "      <td>75.40</td>\n",
       "      <td>2.60</td>\n",
       "      <td>6171.884</td>\n",
       "      <td>6.007624e+11</td>\n",
       "      <td>1046.0</td>\n",
       "      <td>35.0</td>\n",
       "      <td>261004.0</td>\n",
       "      <td>2681.403324</td>\n",
       "      <td>10.745996</td>\n",
       "      <td>0.359570</td>\n",
       "    </tr>\n",
       "    <tr>\n",
       "      <th>206</th>\n",
       "      <td>Western Sahara</td>\n",
       "      <td>Africa</td>\n",
       "      <td>597330.0</td>\n",
       "      <td>70.26</td>\n",
       "      <td>NaN</td>\n",
       "      <td>NaN</td>\n",
       "      <td>NaN</td>\n",
       "      <td>766.0</td>\n",
       "      <td>1.0</td>\n",
       "      <td>NaN</td>\n",
       "      <td>NaN</td>\n",
       "      <td>1282.373228</td>\n",
       "      <td>1.674116</td>\n",
       "    </tr>\n",
       "    <tr>\n",
       "      <th>207</th>\n",
       "      <td>Yemen</td>\n",
       "      <td>Asia</td>\n",
       "      <td>29825968.0</td>\n",
       "      <td>66.12</td>\n",
       "      <td>0.70</td>\n",
       "      <td>1479.147</td>\n",
       "      <td>4.411699e+10</td>\n",
       "      <td>1976.0</td>\n",
       "      <td>571.0</td>\n",
       "      <td>NaN</td>\n",
       "      <td>NaN</td>\n",
       "      <td>66.250993</td>\n",
       "      <td>19.144391</td>\n",
       "    </tr>\n",
       "    <tr>\n",
       "      <th>208</th>\n",
       "      <td>Zambia</td>\n",
       "      <td>Africa</td>\n",
       "      <td>18383956.0</td>\n",
       "      <td>63.89</td>\n",
       "      <td>2.00</td>\n",
       "      <td>3689.251</td>\n",
       "      <td>6.782303e+10</td>\n",
       "      <td>12415.0</td>\n",
       "      <td>292.0</td>\n",
       "      <td>NaN</td>\n",
       "      <td>NaN</td>\n",
       "      <td>675.317108</td>\n",
       "      <td>15.883415</td>\n",
       "    </tr>\n",
       "    <tr>\n",
       "      <th>209</th>\n",
       "      <td>Zimbabwe</td>\n",
       "      <td>Africa</td>\n",
       "      <td>14862927.0</td>\n",
       "      <td>61.49</td>\n",
       "      <td>1.70</td>\n",
       "      <td>1899.775</td>\n",
       "      <td>2.823622e+10</td>\n",
       "      <td>6638.0</td>\n",
       "      <td>206.0</td>\n",
       "      <td>97272.0</td>\n",
       "      <td>6544.605918</td>\n",
       "      <td>446.614587</td>\n",
       "      <td>13.859989</td>\n",
       "    </tr>\n",
       "  </tbody>\n",
       "</table>\n",
       "<p>210 rows × 13 columns</p>\n",
       "</div>"
      ],
      "text/plain": [
       "           location continent  population  life_expectancy  \\\n",
       "0       Afghanistan      Asia  38928341.0            64.83   \n",
       "1           Albania    Europe   2877800.0            78.57   \n",
       "2           Algeria    Africa  43851043.0            76.88   \n",
       "3           Andorra    Europe     77265.0            83.73   \n",
       "4            Angola    Africa  32866268.0            61.15   \n",
       "..              ...       ...         ...              ...   \n",
       "205         Vietnam      Asia  97338583.0            75.40   \n",
       "206  Western Sahara    Africa    597330.0            70.26   \n",
       "207           Yemen      Asia  29825968.0            66.12   \n",
       "208          Zambia    Africa  18383956.0            63.89   \n",
       "209        Zimbabwe    Africa  14862927.0            61.49   \n",
       "\n",
       "     hospital_beds_per_thousand  gdp_per_capita           gdp  total_cases  \\\n",
       "0                          0.50        1803.987  7.022622e+10      38243.0   \n",
       "1                          2.89       11803.431  3.396791e+10       9728.0   \n",
       "2                          1.90       13913.839  6.101364e+11      45158.0   \n",
       "3                           NaN             NaN           NaN       1199.0   \n",
       "4                           NaN        5819.495  1.912651e+11       2729.0   \n",
       "..                          ...             ...           ...          ...   \n",
       "205                        2.60        6171.884  6.007624e+11       1046.0   \n",
       "206                         NaN             NaN           NaN        766.0   \n",
       "207                        0.70        1479.147  4.411699e+10       1976.0   \n",
       "208                        2.00        3689.251  6.782303e+10      12415.0   \n",
       "209                        1.70        1899.775  2.823622e+10       6638.0   \n",
       "\n",
       "     total_deaths  total_tests  tests_per_million  cases_per_million  \\\n",
       "0          1409.0          NaN                NaN         982.394806   \n",
       "1           296.0          NaN                NaN        3380.359997   \n",
       "2          1525.0          NaN                NaN        1029.804468   \n",
       "3            53.0          NaN                NaN       15518.022390   \n",
       "4           109.0          NaN                NaN          83.033462   \n",
       "..            ...          ...                ...                ...   \n",
       "205          35.0     261004.0        2681.403324          10.745996   \n",
       "206           1.0          NaN                NaN        1282.373228   \n",
       "207         571.0          NaN                NaN          66.250993   \n",
       "208         292.0          NaN                NaN         675.317108   \n",
       "209         206.0      97272.0        6544.605918         446.614587   \n",
       "\n",
       "     deaths_per_million  \n",
       "0             36.194710  \n",
       "1            102.856349  \n",
       "2             34.776824  \n",
       "3            685.950948  \n",
       "4              3.316470  \n",
       "..                  ...  \n",
       "205            0.359570  \n",
       "206            1.674116  \n",
       "207           19.144391  \n",
       "208           15.883415  \n",
       "209           13.859989  \n",
       "\n",
       "[210 rows x 13 columns]"
      ]
     },
     "execution_count": 70,
     "metadata": {},
     "output_type": "execute_result"
    }
   ],
   "source": [
    "combined_df"
   ]
  },
  {
   "cell_type": "markdown",
   "id": "f9d317be-2444-49aa-b831-851c98c83a46",
   "metadata": {},
   "source": [
    "**Q11: Create a dataframe with 10 countires that have highest number of tests per million people.**"
   ]
  },
  {
   "cell_type": "code",
   "execution_count": 71,
   "id": "a2eeac4e-48bf-42a5-996d-335cfbf495d4",
   "metadata": {},
   "outputs": [],
   "source": [
    "highest_tests_df = combined_df.sort_values(by='tests_per_million', ascending=False).head(10)"
   ]
  },
  {
   "cell_type": "code",
   "execution_count": 72,
   "id": "be996d74-a966-49a2-bc6c-1e1f31b6b295",
   "metadata": {},
   "outputs": [
    {
     "data": {
      "text/html": [
       "<div>\n",
       "<style scoped>\n",
       "    .dataframe tbody tr th:only-of-type {\n",
       "        vertical-align: middle;\n",
       "    }\n",
       "\n",
       "    .dataframe tbody tr th {\n",
       "        vertical-align: top;\n",
       "    }\n",
       "\n",
       "    .dataframe thead th {\n",
       "        text-align: right;\n",
       "    }\n",
       "</style>\n",
       "<table border=\"1\" class=\"dataframe\">\n",
       "  <thead>\n",
       "    <tr style=\"text-align: right;\">\n",
       "      <th></th>\n",
       "      <th>location</th>\n",
       "      <th>continent</th>\n",
       "      <th>population</th>\n",
       "      <th>life_expectancy</th>\n",
       "      <th>hospital_beds_per_thousand</th>\n",
       "      <th>gdp_per_capita</th>\n",
       "      <th>gdp</th>\n",
       "      <th>total_cases</th>\n",
       "      <th>total_deaths</th>\n",
       "      <th>total_tests</th>\n",
       "      <th>tests_per_million</th>\n",
       "      <th>cases_per_million</th>\n",
       "      <th>deaths_per_million</th>\n",
       "    </tr>\n",
       "  </thead>\n",
       "  <tbody>\n",
       "    <tr>\n",
       "      <th>197</th>\n",
       "      <td>United Arab Emirates</td>\n",
       "      <td>Asia</td>\n",
       "      <td>9890400.0</td>\n",
       "      <td>77.97</td>\n",
       "      <td>1.200</td>\n",
       "      <td>67293.483</td>\n",
       "      <td>6.655595e+11</td>\n",
       "      <td>71540.0</td>\n",
       "      <td>387.0</td>\n",
       "      <td>7177430.0</td>\n",
       "      <td>725696.635121</td>\n",
       "      <td>7233.276713</td>\n",
       "      <td>39.128852</td>\n",
       "    </tr>\n",
       "    <tr>\n",
       "      <th>14</th>\n",
       "      <td>Bahrain</td>\n",
       "      <td>Asia</td>\n",
       "      <td>1701583.0</td>\n",
       "      <td>77.29</td>\n",
       "      <td>2.000</td>\n",
       "      <td>43290.705</td>\n",
       "      <td>7.366273e+10</td>\n",
       "      <td>52440.0</td>\n",
       "      <td>190.0</td>\n",
       "      <td>1118837.0</td>\n",
       "      <td>657527.137965</td>\n",
       "      <td>30818.361490</td>\n",
       "      <td>111.660730</td>\n",
       "    </tr>\n",
       "    <tr>\n",
       "      <th>115</th>\n",
       "      <td>Luxembourg</td>\n",
       "      <td>Europe</td>\n",
       "      <td>625976.0</td>\n",
       "      <td>82.25</td>\n",
       "      <td>4.510</td>\n",
       "      <td>94277.965</td>\n",
       "      <td>5.901574e+10</td>\n",
       "      <td>7928.0</td>\n",
       "      <td>124.0</td>\n",
       "      <td>385820.0</td>\n",
       "      <td>616349.508607</td>\n",
       "      <td>12665.022301</td>\n",
       "      <td>198.090662</td>\n",
       "    </tr>\n",
       "    <tr>\n",
       "      <th>122</th>\n",
       "      <td>Malta</td>\n",
       "      <td>Europe</td>\n",
       "      <td>441539.0</td>\n",
       "      <td>82.53</td>\n",
       "      <td>4.485</td>\n",
       "      <td>36513.323</td>\n",
       "      <td>1.612206e+10</td>\n",
       "      <td>1931.0</td>\n",
       "      <td>13.0</td>\n",
       "      <td>188539.0</td>\n",
       "      <td>427004.183096</td>\n",
       "      <td>4373.339614</td>\n",
       "      <td>29.442473</td>\n",
       "    </tr>\n",
       "    <tr>\n",
       "      <th>53</th>\n",
       "      <td>Denmark</td>\n",
       "      <td>Europe</td>\n",
       "      <td>5792203.0</td>\n",
       "      <td>80.90</td>\n",
       "      <td>2.500</td>\n",
       "      <td>46682.515</td>\n",
       "      <td>2.703946e+11</td>\n",
       "      <td>17195.0</td>\n",
       "      <td>626.0</td>\n",
       "      <td>2447911.0</td>\n",
       "      <td>422621.755488</td>\n",
       "      <td>2968.645954</td>\n",
       "      <td>108.076323</td>\n",
       "    </tr>\n",
       "    <tr>\n",
       "      <th>96</th>\n",
       "      <td>Israel</td>\n",
       "      <td>Asia</td>\n",
       "      <td>8655541.0</td>\n",
       "      <td>82.97</td>\n",
       "      <td>2.990</td>\n",
       "      <td>33132.320</td>\n",
       "      <td>2.867782e+11</td>\n",
       "      <td>122539.0</td>\n",
       "      <td>969.0</td>\n",
       "      <td>2353984.0</td>\n",
       "      <td>271962.665303</td>\n",
       "      <td>14157.289533</td>\n",
       "      <td>111.951408</td>\n",
       "    </tr>\n",
       "    <tr>\n",
       "      <th>89</th>\n",
       "      <td>Iceland</td>\n",
       "      <td>Europe</td>\n",
       "      <td>341250.0</td>\n",
       "      <td>82.99</td>\n",
       "      <td>2.910</td>\n",
       "      <td>46482.958</td>\n",
       "      <td>1.586231e+10</td>\n",
       "      <td>2121.0</td>\n",
       "      <td>10.0</td>\n",
       "      <td>88829.0</td>\n",
       "      <td>260304.761905</td>\n",
       "      <td>6215.384615</td>\n",
       "      <td>29.304029</td>\n",
       "    </tr>\n",
       "    <tr>\n",
       "      <th>157</th>\n",
       "      <td>Russia</td>\n",
       "      <td>Europe</td>\n",
       "      <td>145934460.0</td>\n",
       "      <td>72.58</td>\n",
       "      <td>8.050</td>\n",
       "      <td>24765.954</td>\n",
       "      <td>3.614206e+12</td>\n",
       "      <td>1005000.0</td>\n",
       "      <td>17414.0</td>\n",
       "      <td>37176827.0</td>\n",
       "      <td>254750.159763</td>\n",
       "      <td>6886.653091</td>\n",
       "      <td>119.327539</td>\n",
       "    </tr>\n",
       "    <tr>\n",
       "      <th>199</th>\n",
       "      <td>United States</td>\n",
       "      <td>North America</td>\n",
       "      <td>331002647.0</td>\n",
       "      <td>78.86</td>\n",
       "      <td>2.770</td>\n",
       "      <td>54225.446</td>\n",
       "      <td>1.794877e+13</td>\n",
       "      <td>6114406.0</td>\n",
       "      <td>185744.0</td>\n",
       "      <td>83898416.0</td>\n",
       "      <td>253467.507769</td>\n",
       "      <td>18472.377957</td>\n",
       "      <td>561.155633</td>\n",
       "    </tr>\n",
       "    <tr>\n",
       "      <th>10</th>\n",
       "      <td>Australia</td>\n",
       "      <td>Oceania</td>\n",
       "      <td>25499881.0</td>\n",
       "      <td>83.44</td>\n",
       "      <td>3.840</td>\n",
       "      <td>44648.710</td>\n",
       "      <td>1.138537e+12</td>\n",
       "      <td>25923.0</td>\n",
       "      <td>663.0</td>\n",
       "      <td>6255797.0</td>\n",
       "      <td>245326.517406</td>\n",
       "      <td>1016.592979</td>\n",
       "      <td>26.000121</td>\n",
       "    </tr>\n",
       "  </tbody>\n",
       "</table>\n",
       "</div>"
      ],
      "text/plain": [
       "                 location      continent   population  life_expectancy  \\\n",
       "197  United Arab Emirates           Asia    9890400.0            77.97   \n",
       "14                Bahrain           Asia    1701583.0            77.29   \n",
       "115            Luxembourg         Europe     625976.0            82.25   \n",
       "122                 Malta         Europe     441539.0            82.53   \n",
       "53                Denmark         Europe    5792203.0            80.90   \n",
       "96                 Israel           Asia    8655541.0            82.97   \n",
       "89                Iceland         Europe     341250.0            82.99   \n",
       "157                Russia         Europe  145934460.0            72.58   \n",
       "199         United States  North America  331002647.0            78.86   \n",
       "10              Australia        Oceania   25499881.0            83.44   \n",
       "\n",
       "     hospital_beds_per_thousand  gdp_per_capita           gdp  total_cases  \\\n",
       "197                       1.200       67293.483  6.655595e+11      71540.0   \n",
       "14                        2.000       43290.705  7.366273e+10      52440.0   \n",
       "115                       4.510       94277.965  5.901574e+10       7928.0   \n",
       "122                       4.485       36513.323  1.612206e+10       1931.0   \n",
       "53                        2.500       46682.515  2.703946e+11      17195.0   \n",
       "96                        2.990       33132.320  2.867782e+11     122539.0   \n",
       "89                        2.910       46482.958  1.586231e+10       2121.0   \n",
       "157                       8.050       24765.954  3.614206e+12    1005000.0   \n",
       "199                       2.770       54225.446  1.794877e+13    6114406.0   \n",
       "10                        3.840       44648.710  1.138537e+12      25923.0   \n",
       "\n",
       "     total_deaths  total_tests  tests_per_million  cases_per_million  \\\n",
       "197         387.0    7177430.0      725696.635121        7233.276713   \n",
       "14          190.0    1118837.0      657527.137965       30818.361490   \n",
       "115         124.0     385820.0      616349.508607       12665.022301   \n",
       "122          13.0     188539.0      427004.183096        4373.339614   \n",
       "53          626.0    2447911.0      422621.755488        2968.645954   \n",
       "96          969.0    2353984.0      271962.665303       14157.289533   \n",
       "89           10.0      88829.0      260304.761905        6215.384615   \n",
       "157       17414.0   37176827.0      254750.159763        6886.653091   \n",
       "199      185744.0   83898416.0      253467.507769       18472.377957   \n",
       "10          663.0    6255797.0      245326.517406        1016.592979   \n",
       "\n",
       "     deaths_per_million  \n",
       "197           39.128852  \n",
       "14           111.660730  \n",
       "115          198.090662  \n",
       "122           29.442473  \n",
       "53           108.076323  \n",
       "96           111.951408  \n",
       "89            29.304029  \n",
       "157          119.327539  \n",
       "199          561.155633  \n",
       "10            26.000121  "
      ]
     },
     "execution_count": 72,
     "metadata": {},
     "output_type": "execute_result"
    }
   ],
   "source": [
    "highest_tests_df"
   ]
  },
  {
   "cell_type": "markdown",
   "id": "2680d3d9-7302-473a-8fba-3aff9509a960",
   "metadata": {},
   "source": [
    "**Q12: Create a dataframe with 10 countires that have highest number of positive cases per million people.**"
   ]
  },
  {
   "cell_type": "code",
   "execution_count": 73,
   "id": "cbcfacca-f4f7-4bf1-88ed-99df3599e0e0",
   "metadata": {},
   "outputs": [],
   "source": [
    "highest_cases_df = combined_df.sort_values(by='cases_per_million', ascending=False).head(10)"
   ]
  },
  {
   "cell_type": "code",
   "execution_count": 74,
   "id": "32e8fc15-b93d-42d8-808e-6816a1692838",
   "metadata": {},
   "outputs": [
    {
     "data": {
      "text/html": [
       "<div>\n",
       "<style scoped>\n",
       "    .dataframe tbody tr th:only-of-type {\n",
       "        vertical-align: middle;\n",
       "    }\n",
       "\n",
       "    .dataframe tbody tr th {\n",
       "        vertical-align: top;\n",
       "    }\n",
       "\n",
       "    .dataframe thead th {\n",
       "        text-align: right;\n",
       "    }\n",
       "</style>\n",
       "<table border=\"1\" class=\"dataframe\">\n",
       "  <thead>\n",
       "    <tr style=\"text-align: right;\">\n",
       "      <th></th>\n",
       "      <th>location</th>\n",
       "      <th>continent</th>\n",
       "      <th>population</th>\n",
       "      <th>life_expectancy</th>\n",
       "      <th>hospital_beds_per_thousand</th>\n",
       "      <th>gdp_per_capita</th>\n",
       "      <th>gdp</th>\n",
       "      <th>total_cases</th>\n",
       "      <th>total_deaths</th>\n",
       "      <th>total_tests</th>\n",
       "      <th>tests_per_million</th>\n",
       "      <th>cases_per_million</th>\n",
       "      <th>deaths_per_million</th>\n",
       "    </tr>\n",
       "  </thead>\n",
       "  <tbody>\n",
       "    <tr>\n",
       "      <th>155</th>\n",
       "      <td>Qatar</td>\n",
       "      <td>Asia</td>\n",
       "      <td>2881060.0</td>\n",
       "      <td>80.23</td>\n",
       "      <td>1.20</td>\n",
       "      <td>116935.600</td>\n",
       "      <td>3.368985e+11</td>\n",
       "      <td>119206.0</td>\n",
       "      <td>199.0</td>\n",
       "      <td>634745.0</td>\n",
       "      <td>220316.480740</td>\n",
       "      <td>41375.743650</td>\n",
       "      <td>69.071800</td>\n",
       "    </tr>\n",
       "    <tr>\n",
       "      <th>14</th>\n",
       "      <td>Bahrain</td>\n",
       "      <td>Asia</td>\n",
       "      <td>1701583.0</td>\n",
       "      <td>77.29</td>\n",
       "      <td>2.00</td>\n",
       "      <td>43290.705</td>\n",
       "      <td>7.366273e+10</td>\n",
       "      <td>52440.0</td>\n",
       "      <td>190.0</td>\n",
       "      <td>1118837.0</td>\n",
       "      <td>657527.137965</td>\n",
       "      <td>30818.361490</td>\n",
       "      <td>111.660730</td>\n",
       "    </tr>\n",
       "    <tr>\n",
       "      <th>147</th>\n",
       "      <td>Panama</td>\n",
       "      <td>North America</td>\n",
       "      <td>4314768.0</td>\n",
       "      <td>78.51</td>\n",
       "      <td>2.30</td>\n",
       "      <td>22267.037</td>\n",
       "      <td>9.607710e+10</td>\n",
       "      <td>94084.0</td>\n",
       "      <td>2030.0</td>\n",
       "      <td>336345.0</td>\n",
       "      <td>77952.047480</td>\n",
       "      <td>21805.112117</td>\n",
       "      <td>470.477208</td>\n",
       "    </tr>\n",
       "    <tr>\n",
       "      <th>40</th>\n",
       "      <td>Chile</td>\n",
       "      <td>South America</td>\n",
       "      <td>19116209.0</td>\n",
       "      <td>80.18</td>\n",
       "      <td>2.11</td>\n",
       "      <td>22767.037</td>\n",
       "      <td>4.352194e+11</td>\n",
       "      <td>414739.0</td>\n",
       "      <td>11344.0</td>\n",
       "      <td>2458762.0</td>\n",
       "      <td>128621.841287</td>\n",
       "      <td>21695.671982</td>\n",
       "      <td>593.423100</td>\n",
       "    </tr>\n",
       "    <tr>\n",
       "      <th>162</th>\n",
       "      <td>San Marino</td>\n",
       "      <td>Europe</td>\n",
       "      <td>33938.0</td>\n",
       "      <td>84.97</td>\n",
       "      <td>3.80</td>\n",
       "      <td>56861.470</td>\n",
       "      <td>1.929765e+09</td>\n",
       "      <td>735.0</td>\n",
       "      <td>42.0</td>\n",
       "      <td>NaN</td>\n",
       "      <td>NaN</td>\n",
       "      <td>21657.139490</td>\n",
       "      <td>1237.550828</td>\n",
       "    </tr>\n",
       "    <tr>\n",
       "      <th>9</th>\n",
       "      <td>Aruba</td>\n",
       "      <td>North America</td>\n",
       "      <td>106766.0</td>\n",
       "      <td>76.29</td>\n",
       "      <td>NaN</td>\n",
       "      <td>35973.781</td>\n",
       "      <td>3.840777e+09</td>\n",
       "      <td>2211.0</td>\n",
       "      <td>12.0</td>\n",
       "      <td>NaN</td>\n",
       "      <td>NaN</td>\n",
       "      <td>20708.839893</td>\n",
       "      <td>112.395332</td>\n",
       "    </tr>\n",
       "    <tr>\n",
       "      <th>105</th>\n",
       "      <td>Kuwait</td>\n",
       "      <td>Asia</td>\n",
       "      <td>4270563.0</td>\n",
       "      <td>75.49</td>\n",
       "      <td>2.00</td>\n",
       "      <td>65530.537</td>\n",
       "      <td>2.798523e+11</td>\n",
       "      <td>86478.0</td>\n",
       "      <td>535.0</td>\n",
       "      <td>621616.0</td>\n",
       "      <td>145558.325682</td>\n",
       "      <td>20249.789079</td>\n",
       "      <td>125.276222</td>\n",
       "    </tr>\n",
       "    <tr>\n",
       "      <th>150</th>\n",
       "      <td>Peru</td>\n",
       "      <td>South America</td>\n",
       "      <td>32971846.0</td>\n",
       "      <td>76.74</td>\n",
       "      <td>1.60</td>\n",
       "      <td>12236.706</td>\n",
       "      <td>4.034668e+11</td>\n",
       "      <td>663437.0</td>\n",
       "      <td>29259.0</td>\n",
       "      <td>584232.0</td>\n",
       "      <td>17719.117092</td>\n",
       "      <td>20121.318048</td>\n",
       "      <td>887.393445</td>\n",
       "    </tr>\n",
       "    <tr>\n",
       "      <th>27</th>\n",
       "      <td>Brazil</td>\n",
       "      <td>South America</td>\n",
       "      <td>212559409.0</td>\n",
       "      <td>75.88</td>\n",
       "      <td>2.20</td>\n",
       "      <td>14103.452</td>\n",
       "      <td>2.997821e+12</td>\n",
       "      <td>3997865.0</td>\n",
       "      <td>123780.0</td>\n",
       "      <td>4797948.0</td>\n",
       "      <td>22572.268255</td>\n",
       "      <td>18808.224105</td>\n",
       "      <td>582.331314</td>\n",
       "    </tr>\n",
       "    <tr>\n",
       "      <th>199</th>\n",
       "      <td>United States</td>\n",
       "      <td>North America</td>\n",
       "      <td>331002647.0</td>\n",
       "      <td>78.86</td>\n",
       "      <td>2.77</td>\n",
       "      <td>54225.446</td>\n",
       "      <td>1.794877e+13</td>\n",
       "      <td>6114406.0</td>\n",
       "      <td>185744.0</td>\n",
       "      <td>83898416.0</td>\n",
       "      <td>253467.507769</td>\n",
       "      <td>18472.377957</td>\n",
       "      <td>561.155633</td>\n",
       "    </tr>\n",
       "  </tbody>\n",
       "</table>\n",
       "</div>"
      ],
      "text/plain": [
       "          location      continent   population  life_expectancy  \\\n",
       "155          Qatar           Asia    2881060.0            80.23   \n",
       "14         Bahrain           Asia    1701583.0            77.29   \n",
       "147         Panama  North America    4314768.0            78.51   \n",
       "40           Chile  South America   19116209.0            80.18   \n",
       "162     San Marino         Europe      33938.0            84.97   \n",
       "9            Aruba  North America     106766.0            76.29   \n",
       "105         Kuwait           Asia    4270563.0            75.49   \n",
       "150           Peru  South America   32971846.0            76.74   \n",
       "27          Brazil  South America  212559409.0            75.88   \n",
       "199  United States  North America  331002647.0            78.86   \n",
       "\n",
       "     hospital_beds_per_thousand  gdp_per_capita           gdp  total_cases  \\\n",
       "155                        1.20      116935.600  3.368985e+11     119206.0   \n",
       "14                         2.00       43290.705  7.366273e+10      52440.0   \n",
       "147                        2.30       22267.037  9.607710e+10      94084.0   \n",
       "40                         2.11       22767.037  4.352194e+11     414739.0   \n",
       "162                        3.80       56861.470  1.929765e+09        735.0   \n",
       "9                           NaN       35973.781  3.840777e+09       2211.0   \n",
       "105                        2.00       65530.537  2.798523e+11      86478.0   \n",
       "150                        1.60       12236.706  4.034668e+11     663437.0   \n",
       "27                         2.20       14103.452  2.997821e+12    3997865.0   \n",
       "199                        2.77       54225.446  1.794877e+13    6114406.0   \n",
       "\n",
       "     total_deaths  total_tests  tests_per_million  cases_per_million  \\\n",
       "155         199.0     634745.0      220316.480740       41375.743650   \n",
       "14          190.0    1118837.0      657527.137965       30818.361490   \n",
       "147        2030.0     336345.0       77952.047480       21805.112117   \n",
       "40        11344.0    2458762.0      128621.841287       21695.671982   \n",
       "162          42.0          NaN                NaN       21657.139490   \n",
       "9            12.0          NaN                NaN       20708.839893   \n",
       "105         535.0     621616.0      145558.325682       20249.789079   \n",
       "150       29259.0     584232.0       17719.117092       20121.318048   \n",
       "27       123780.0    4797948.0       22572.268255       18808.224105   \n",
       "199      185744.0   83898416.0      253467.507769       18472.377957   \n",
       "\n",
       "     deaths_per_million  \n",
       "155           69.071800  \n",
       "14           111.660730  \n",
       "147          470.477208  \n",
       "40           593.423100  \n",
       "162         1237.550828  \n",
       "9            112.395332  \n",
       "105          125.276222  \n",
       "150          887.393445  \n",
       "27           582.331314  \n",
       "199          561.155633  "
      ]
     },
     "execution_count": 74,
     "metadata": {},
     "output_type": "execute_result"
    }
   ],
   "source": [
    "highest_cases_df"
   ]
  },
  {
   "cell_type": "markdown",
   "id": "376d33ad-d79b-4c22-9be3-6e4ab74bdc75",
   "metadata": {},
   "source": [
    "**Q13: Create a dataframe with 10 countires that have highest number of deaths cases per million people?**"
   ]
  },
  {
   "cell_type": "code",
   "execution_count": 75,
   "id": "4e9fb841-d0db-449b-97a6-d3789a7d4423",
   "metadata": {},
   "outputs": [],
   "source": [
    "highest_deaths_df = combined_df.sort_values(by='deaths_per_million', ascending=False).head(10)"
   ]
  },
  {
   "cell_type": "code",
   "execution_count": 76,
   "id": "815a5d99-48b7-4928-a710-8a16ef6242e0",
   "metadata": {},
   "outputs": [
    {
     "data": {
      "text/html": [
       "<div>\n",
       "<style scoped>\n",
       "    .dataframe tbody tr th:only-of-type {\n",
       "        vertical-align: middle;\n",
       "    }\n",
       "\n",
       "    .dataframe tbody tr th {\n",
       "        vertical-align: top;\n",
       "    }\n",
       "\n",
       "    .dataframe thead th {\n",
       "        text-align: right;\n",
       "    }\n",
       "</style>\n",
       "<table border=\"1\" class=\"dataframe\">\n",
       "  <thead>\n",
       "    <tr style=\"text-align: right;\">\n",
       "      <th></th>\n",
       "      <th>location</th>\n",
       "      <th>continent</th>\n",
       "      <th>population</th>\n",
       "      <th>life_expectancy</th>\n",
       "      <th>hospital_beds_per_thousand</th>\n",
       "      <th>gdp_per_capita</th>\n",
       "      <th>gdp</th>\n",
       "      <th>total_cases</th>\n",
       "      <th>total_deaths</th>\n",
       "      <th>total_tests</th>\n",
       "      <th>tests_per_million</th>\n",
       "      <th>cases_per_million</th>\n",
       "      <th>deaths_per_million</th>\n",
       "    </tr>\n",
       "  </thead>\n",
       "  <tbody>\n",
       "    <tr>\n",
       "      <th>162</th>\n",
       "      <td>San Marino</td>\n",
       "      <td>Europe</td>\n",
       "      <td>33938.0</td>\n",
       "      <td>84.97</td>\n",
       "      <td>3.80</td>\n",
       "      <td>56861.470</td>\n",
       "      <td>1.929765e+09</td>\n",
       "      <td>735.0</td>\n",
       "      <td>42.0</td>\n",
       "      <td>NaN</td>\n",
       "      <td>NaN</td>\n",
       "      <td>21657.139490</td>\n",
       "      <td>1237.550828</td>\n",
       "    </tr>\n",
       "    <tr>\n",
       "      <th>150</th>\n",
       "      <td>Peru</td>\n",
       "      <td>South America</td>\n",
       "      <td>32971846.0</td>\n",
       "      <td>76.74</td>\n",
       "      <td>1.60</td>\n",
       "      <td>12236.706</td>\n",
       "      <td>4.034668e+11</td>\n",
       "      <td>663437.0</td>\n",
       "      <td>29259.0</td>\n",
       "      <td>584232.0</td>\n",
       "      <td>17719.117092</td>\n",
       "      <td>20121.318048</td>\n",
       "      <td>887.393445</td>\n",
       "    </tr>\n",
       "    <tr>\n",
       "      <th>18</th>\n",
       "      <td>Belgium</td>\n",
       "      <td>Europe</td>\n",
       "      <td>11589616.0</td>\n",
       "      <td>81.63</td>\n",
       "      <td>5.64</td>\n",
       "      <td>42658.576</td>\n",
       "      <td>4.943965e+11</td>\n",
       "      <td>85817.0</td>\n",
       "      <td>9898.0</td>\n",
       "      <td>2281853.0</td>\n",
       "      <td>196887.713967</td>\n",
       "      <td>7404.645676</td>\n",
       "      <td>854.040375</td>\n",
       "    </tr>\n",
       "    <tr>\n",
       "      <th>3</th>\n",
       "      <td>Andorra</td>\n",
       "      <td>Europe</td>\n",
       "      <td>77265.0</td>\n",
       "      <td>83.73</td>\n",
       "      <td>NaN</td>\n",
       "      <td>NaN</td>\n",
       "      <td>NaN</td>\n",
       "      <td>1199.0</td>\n",
       "      <td>53.0</td>\n",
       "      <td>NaN</td>\n",
       "      <td>NaN</td>\n",
       "      <td>15518.022390</td>\n",
       "      <td>685.950948</td>\n",
       "    </tr>\n",
       "    <tr>\n",
       "      <th>177</th>\n",
       "      <td>Spain</td>\n",
       "      <td>Europe</td>\n",
       "      <td>46754783.0</td>\n",
       "      <td>83.56</td>\n",
       "      <td>2.97</td>\n",
       "      <td>34272.360</td>\n",
       "      <td>1.602397e+12</td>\n",
       "      <td>479554.0</td>\n",
       "      <td>29194.0</td>\n",
       "      <td>6416533.0</td>\n",
       "      <td>137238.001939</td>\n",
       "      <td>10256.790198</td>\n",
       "      <td>624.406705</td>\n",
       "    </tr>\n",
       "    <tr>\n",
       "      <th>198</th>\n",
       "      <td>United Kingdom</td>\n",
       "      <td>Europe</td>\n",
       "      <td>67886004.0</td>\n",
       "      <td>81.32</td>\n",
       "      <td>2.54</td>\n",
       "      <td>39753.244</td>\n",
       "      <td>2.698689e+12</td>\n",
       "      <td>338676.0</td>\n",
       "      <td>41514.0</td>\n",
       "      <td>13447568.0</td>\n",
       "      <td>198090.434075</td>\n",
       "      <td>4988.892850</td>\n",
       "      <td>611.525168</td>\n",
       "    </tr>\n",
       "    <tr>\n",
       "      <th>40</th>\n",
       "      <td>Chile</td>\n",
       "      <td>South America</td>\n",
       "      <td>19116209.0</td>\n",
       "      <td>80.18</td>\n",
       "      <td>2.11</td>\n",
       "      <td>22767.037</td>\n",
       "      <td>4.352194e+11</td>\n",
       "      <td>414739.0</td>\n",
       "      <td>11344.0</td>\n",
       "      <td>2458762.0</td>\n",
       "      <td>128621.841287</td>\n",
       "      <td>21695.671982</td>\n",
       "      <td>593.423100</td>\n",
       "    </tr>\n",
       "    <tr>\n",
       "      <th>97</th>\n",
       "      <td>Italy</td>\n",
       "      <td>Europe</td>\n",
       "      <td>60461828.0</td>\n",
       "      <td>83.51</td>\n",
       "      <td>3.18</td>\n",
       "      <td>35220.084</td>\n",
       "      <td>2.129471e+12</td>\n",
       "      <td>271515.0</td>\n",
       "      <td>35497.0</td>\n",
       "      <td>5214766.0</td>\n",
       "      <td>86248.897403</td>\n",
       "      <td>4490.684602</td>\n",
       "      <td>587.097697</td>\n",
       "    </tr>\n",
       "    <tr>\n",
       "      <th>27</th>\n",
       "      <td>Brazil</td>\n",
       "      <td>South America</td>\n",
       "      <td>212559409.0</td>\n",
       "      <td>75.88</td>\n",
       "      <td>2.20</td>\n",
       "      <td>14103.452</td>\n",
       "      <td>2.997821e+12</td>\n",
       "      <td>3997865.0</td>\n",
       "      <td>123780.0</td>\n",
       "      <td>4797948.0</td>\n",
       "      <td>22572.268255</td>\n",
       "      <td>18808.224105</td>\n",
       "      <td>582.331314</td>\n",
       "    </tr>\n",
       "    <tr>\n",
       "      <th>182</th>\n",
       "      <td>Sweden</td>\n",
       "      <td>Europe</td>\n",
       "      <td>10099270.0</td>\n",
       "      <td>82.80</td>\n",
       "      <td>2.22</td>\n",
       "      <td>46949.283</td>\n",
       "      <td>4.741535e+11</td>\n",
       "      <td>84532.0</td>\n",
       "      <td>5820.0</td>\n",
       "      <td>NaN</td>\n",
       "      <td>NaN</td>\n",
       "      <td>8370.109919</td>\n",
       "      <td>576.279276</td>\n",
       "    </tr>\n",
       "  </tbody>\n",
       "</table>\n",
       "</div>"
      ],
      "text/plain": [
       "           location      continent   population  life_expectancy  \\\n",
       "162      San Marino         Europe      33938.0            84.97   \n",
       "150            Peru  South America   32971846.0            76.74   \n",
       "18          Belgium         Europe   11589616.0            81.63   \n",
       "3           Andorra         Europe      77265.0            83.73   \n",
       "177           Spain         Europe   46754783.0            83.56   \n",
       "198  United Kingdom         Europe   67886004.0            81.32   \n",
       "40            Chile  South America   19116209.0            80.18   \n",
       "97            Italy         Europe   60461828.0            83.51   \n",
       "27           Brazil  South America  212559409.0            75.88   \n",
       "182          Sweden         Europe   10099270.0            82.80   \n",
       "\n",
       "     hospital_beds_per_thousand  gdp_per_capita           gdp  total_cases  \\\n",
       "162                        3.80       56861.470  1.929765e+09        735.0   \n",
       "150                        1.60       12236.706  4.034668e+11     663437.0   \n",
       "18                         5.64       42658.576  4.943965e+11      85817.0   \n",
       "3                           NaN             NaN           NaN       1199.0   \n",
       "177                        2.97       34272.360  1.602397e+12     479554.0   \n",
       "198                        2.54       39753.244  2.698689e+12     338676.0   \n",
       "40                         2.11       22767.037  4.352194e+11     414739.0   \n",
       "97                         3.18       35220.084  2.129471e+12     271515.0   \n",
       "27                         2.20       14103.452  2.997821e+12    3997865.0   \n",
       "182                        2.22       46949.283  4.741535e+11      84532.0   \n",
       "\n",
       "     total_deaths  total_tests  tests_per_million  cases_per_million  \\\n",
       "162          42.0          NaN                NaN       21657.139490   \n",
       "150       29259.0     584232.0       17719.117092       20121.318048   \n",
       "18         9898.0    2281853.0      196887.713967        7404.645676   \n",
       "3            53.0          NaN                NaN       15518.022390   \n",
       "177       29194.0    6416533.0      137238.001939       10256.790198   \n",
       "198       41514.0   13447568.0      198090.434075        4988.892850   \n",
       "40        11344.0    2458762.0      128621.841287       21695.671982   \n",
       "97        35497.0    5214766.0       86248.897403        4490.684602   \n",
       "27       123780.0    4797948.0       22572.268255       18808.224105   \n",
       "182        5820.0          NaN                NaN        8370.109919   \n",
       "\n",
       "     deaths_per_million  \n",
       "162         1237.550828  \n",
       "150          887.393445  \n",
       "18           854.040375  \n",
       "3            685.950948  \n",
       "177          624.406705  \n",
       "198          611.525168  \n",
       "40           593.423100  \n",
       "97           587.097697  \n",
       "27           582.331314  \n",
       "182          576.279276  "
      ]
     },
     "execution_count": 76,
     "metadata": {},
     "output_type": "execute_result"
    }
   ],
   "source": [
    "highest_deaths_df"
   ]
  },
  {
   "cell_type": "markdown",
   "id": "d588ed3e-7a0c-4b05-a0ce-b1d99cdccbd2",
   "metadata": {},
   "source": [
    "**Q - VG: Count number of countries that feature in both the lists of \"highest number of tests per million\" and \"highest number of cases per million\".**"
   ]
  },
  {
   "cell_type": "code",
   "execution_count": 77,
   "id": "254a8e36-885e-450f-bafc-68be67b7fea2",
   "metadata": {},
   "outputs": [],
   "source": [
    "top_cases_and_death_countries = set(highest_cases_df.location).intersection(set(highest_tests_df.location))"
   ]
  },
  {
   "cell_type": "code",
   "execution_count": 78,
   "id": "8bd8fb26-6332-4e34-8f0e-af79b4a12c0b",
   "metadata": {},
   "outputs": [],
   "source": [
    "count_countries_top_cases_death = len(top_cases_and_death_countries)"
   ]
  },
  {
   "cell_type": "code",
   "execution_count": 79,
   "id": "e66b9e74-6bb2-4b30-a488-4c2686bb0d6a",
   "metadata": {},
   "outputs": [
    {
     "name": "stdout",
     "output_type": "stream",
     "text": [
      "There is 2 countries that is on both lists: {'United States', 'Bahrain'}\n"
     ]
    }
   ],
   "source": [
    "print('There is {0} countries that is on both lists: {1}'.format(int(count_countries_top_cases_death), top_cases_and_death_countries))"
   ]
  },
  {
   "cell_type": "markdown",
   "id": "1b67b162-bb67-40af-b9ff-dec6c671a932",
   "metadata": {},
   "source": [
    "**Q - VG: Count number of countries that feature in both the lists \"20 countries with lowest GDP per capita\" and \"20 countries with the lowest number of hospital beds per thousand population\". Only consider countries with a population higher than 10 million while creating the list.**"
   ]
  },
  {
   "cell_type": "code",
   "execution_count": 80,
   "id": "3dcafdc4-ae2e-49ab-922f-faf1dab6d04e",
   "metadata": {},
   "outputs": [],
   "source": [
    "countries_over_10_million = set(countries_df.location[countries_df['population']>10000000])"
   ]
  },
  {
   "cell_type": "code",
   "execution_count": 81,
   "id": "843a5dbe-1478-48de-85e3-926894ddb7a3",
   "metadata": {},
   "outputs": [],
   "source": [
    "lowest_gdp_per_capita = set((countries_df.sort_values('gdp_per_capita', ascending=True).head(20)).location)\n",
    "lowest_nr_hospital_beds = set((countries_df.sort_values('hospital_beds_per_thousand', ascending=True).head(20)).location)"
   ]
  },
  {
   "cell_type": "code",
   "execution_count": 82,
   "id": "c223c1e2-77c4-4820-96e8-a9a6a970b4b8",
   "metadata": {},
   "outputs": [
    {
     "name": "stdout",
     "output_type": "stream",
     "text": [
      "Countries with lowest GDP per capita and hospital beds, with over thousand population: 8\n",
      "{'Niger', 'Mozambique', 'Haiti', 'Madagascar', 'Uganda', 'Yemen', 'Burkina Faso', 'Ethiopia'}\n"
     ]
    }
   ],
   "source": [
    "total = countries_over_10_million.intersection(lowest_gdp_per_capita, lowest_nr_hospital_beds)\n",
    "print('Countries with lowest GDP per capita and hospital beds, with over thousand population:', len(total))\n",
    "print(total)"
   ]
  },
  {
   "cell_type": "markdown",
   "id": "00df8d6e-b002-427c-b5a3-bd35996be773",
   "metadata": {},
   "source": [
    "# Part 3 - Exploration\n",
    "The object of *Part 3* is for you to reflect upon what kind of data is interesting to you and using an example dataset, examine and explain what the data is like and what kind of things you could find out using it. \n",
    "\n",
    "Pick a real-world dataset of your choice and perform an exploratory data analysis. Focus on documentation and presentation - this Jupyter notebook will also serve as a project report, so make sure to include detailed explanations wherever possible using Markdown cells.\n",
    "\n",
    "### Evaluation Criteria\n",
    "\n",
    "Your submission will be evaluated using the following criteria:\n",
    "\n",
    ">* Dataset must contain at least 5 columns and 500 rows of data\n",
    ">* You must ask and answer at least 4 questions about the dataset\n",
    ">* Your submission must include at least 4 visualizations (graphs) with axes, title and any other annotations necessary to understand the graph. \n",
    ">* Your submission must include explanations using markdown cells, apart from the code.\n",
    ">* Your work must not be plagiarized i.e. copy-pasted for somewhere else.\n",
    "\n",
    "#### Dataset repositories: \n",
    "- [UCI repository](http://archive.ics.uci.edu/ml/index.php)\n",
    "- [Public datasets](https://github.com/awesomedata/awesome-public-datasets)\n",
    "- [Google dataset search](https://datasetsearch.research.google.com/)\n",
    "- [Kaggle datasets](https://www.kaggle.com/datasets?fileType=csv)\n",
    "\n",
    "#### Example datasets:\n",
    "- https://www.kaggle.com/datasnaek/youtube-new\n",
    "- https://www.kaggle.com/imdevskp/corona-virus-report\n",
    "- https://github.com/CSSEGISandData/COVID-19/tree/master/csse_covid_19_data\n",
    "\n",
    "#### Example Projects\n",
    "\n",
    "Refer to these projects for inspiration:\n",
    "\n",
    "* [Analyzing your browser history using Pandas & Seaborn](https://medium.com/free-code-camp/understanding-my-browsing-pattern-using-pandas-and-seaborn-162b97e33e51) by Kartik Godawat\n",
    "\n",
    "* [2019 State of Javscript Survey Results](https://2019.stateofjs.com/demographics/)\n",
    "\n",
    "* [2020 Stack Overflow Developer Survey Results](https://insights.stackoverflow.com/survey/2020)\n",
    "\n",
    "\n",
    "\n",
    "## Follow this step-by-step guide to work on your project.\n",
    "\n",
    "### Step 1: Select a real-world dataset \n",
    "\n",
    ">- Find an interesting dataset at any of the recommended repositories below.\n",
    ">- The data should be in CSV format, and should contain at least 5 columns and 500 rows\n",
    ">- Download the dataset using pandas read_csv function and an url. See example below. (Please note that when downloading from kaggle, you will have to amend this code.) Alternatively, supply the exact link from which you got the dataset and any necessary instructions to download, unpack, load into dataframe etc. in order to get it to work.\n",
    "\n",
    "`import pandas as pd`\n",
    "\n",
    "`url = 'https://raw.githubusercontent.com/cs109/2014_data/master/countries.csv'`\n",
    "\n",
    "`c = pd.read_csv(url)`\n",
    "\n",
    "\n",
    "### Step 2: Perform data preparation & cleaning\n",
    "\n",
    ">- Load the dataset into a data frame using Pandas.\n",
    ">- Explore the number of rows & columns, ranges of values etc.\n",
    ">- Handle missing, incorrect and invalid data.\n",
    ">- Perform any additional steps (parsing dates, creating additional columns, merging multiple dataset etc.).\n",
    ">- Give a summary of the dataset as it is now, e.g. size, type of categories (qualitative vs. quantitative), quality, distribution etc.. \n",
    "\n",
    "\n",
    "### Step 3: Perform exploratory analysis & visualization\n",
    "\n",
    ">- Compute the mean, sum, range and other interesting statistics for numeric columns.\n",
    ">- Explore distributions of numeric columns using histograms etc.\n",
    ">- Explore relationship between columns using scatter plots, bar charts etc.\n",
    ">- Make a note of interesting insights from the exploratory analysis.\n",
    "\n",
    "### Step 4: Ask & answer questions about the data - VG\n",
    "\n",
    ">- Ask at least 4 interesting questions about your dataset. What kind of analysis could you do on this data?\n",
    ">- Answer the questions either by computing the results using Numpy/Pandas or by plotting graphs using Matplotlib.\n",
    ">- Create new columns, merge multiple dataset and perform grouping/aggregation wherever necessary.\n",
    ">- Wherever you're using a library function from Pandas/Numpy/Matplotlib etc. explain briefly what it does.\n",
    "\n",
    "\n",
    "### Step 5: Summarize your inferences & write a conclusion\n",
    "\n",
    ">- Write a summary of what you've learned from the analysis.\n",
    ">- Include interesting insights and graphs from previous sections.\n",
    ">- **(VG)** Share ideas for future work on the same topic using other relevant datasets.\n",
    ">- Share links to resources you found useful during your analysis.\n",
    "\n"
   ]
  },
  {
   "cell_type": "code",
   "execution_count": 83,
   "id": "82d18f69-c3fa-4aa6-b58f-b533870a7e7f",
   "metadata": {},
   "outputs": [],
   "source": [
    "import pandas as pd\n",
    "import numpy as np\n",
    "import matplotlib.pyplot as plt\n",
    "import seaborn as sns\n",
    "\n",
    "url = 'https://raw.githubusercontent.com/stedy/Machine-Learning-with-R-datasets/master/insurance.csv'\n",
    "\n",
    "insurance_df = pd.read_csv(url) # Read above url and save it as a dataframe to be used"
   ]
  },
  {
   "cell_type": "code",
   "execution_count": 84,
   "id": "a831a989",
   "metadata": {},
   "outputs": [
    {
     "name": "stdout",
     "output_type": "stream",
     "text": [
      "<class 'pandas.core.frame.DataFrame'>\n",
      "RangeIndex: 1338 entries, 0 to 1337\n",
      "Data columns (total 7 columns):\n",
      " #   Column    Non-Null Count  Dtype  \n",
      "---  ------    --------------  -----  \n",
      " 0   age       1338 non-null   int64  \n",
      " 1   sex       1338 non-null   object \n",
      " 2   bmi       1338 non-null   float64\n",
      " 3   children  1338 non-null   int64  \n",
      " 4   smoker    1338 non-null   object \n",
      " 5   region    1338 non-null   object \n",
      " 6   charges   1338 non-null   float64\n",
      "dtypes: float64(2), int64(2), object(3)\n",
      "memory usage: 73.3+ KB\n"
     ]
    }
   ],
   "source": [
    "# Brief summary of the columns, dtype and if any value is null\n",
    "insurance_df.info()"
   ]
  },
  {
   "cell_type": "markdown",
   "id": "25f54890",
   "metadata": {},
   "source": [
    "To be able to compare data correctly, the values in 'smoker' was changed to 0 and 1.\n",
    "Sex was also converted to number values for data comparison purposes.\n",
    "\n",
    "0: No smoker / male\n",
    "\n",
    "1: Smoker / female"
   ]
  },
  {
   "cell_type": "code",
   "execution_count": 85,
   "id": "377318a3",
   "metadata": {},
   "outputs": [],
   "source": [
    "# We use replace to changes values and inplace to save it to the original dataframe\n",
    "insurance_df['smoker'].replace({'yes' : 1, 'no' : 0}, inplace = True)\n",
    "insurance_df['sex'].replace({'female' : 1, 'male' : 0}, inplace = True)"
   ]
  },
  {
   "cell_type": "code",
   "execution_count": 86,
   "id": "434900fb",
   "metadata": {},
   "outputs": [
    {
     "data": {
      "text/html": [
       "<div>\n",
       "<style scoped>\n",
       "    .dataframe tbody tr th:only-of-type {\n",
       "        vertical-align: middle;\n",
       "    }\n",
       "\n",
       "    .dataframe tbody tr th {\n",
       "        vertical-align: top;\n",
       "    }\n",
       "\n",
       "    .dataframe thead th {\n",
       "        text-align: right;\n",
       "    }\n",
       "</style>\n",
       "<table border=\"1\" class=\"dataframe\">\n",
       "  <thead>\n",
       "    <tr style=\"text-align: right;\">\n",
       "      <th></th>\n",
       "      <th>age</th>\n",
       "      <th>sex</th>\n",
       "      <th>bmi</th>\n",
       "      <th>children</th>\n",
       "      <th>smoker</th>\n",
       "      <th>charges</th>\n",
       "    </tr>\n",
       "  </thead>\n",
       "  <tbody>\n",
       "    <tr>\n",
       "      <th>count</th>\n",
       "      <td>1338.000000</td>\n",
       "      <td>1338.000000</td>\n",
       "      <td>1338.000000</td>\n",
       "      <td>1338.000000</td>\n",
       "      <td>1338.000000</td>\n",
       "      <td>1338.000000</td>\n",
       "    </tr>\n",
       "    <tr>\n",
       "      <th>mean</th>\n",
       "      <td>39.207025</td>\n",
       "      <td>0.494768</td>\n",
       "      <td>30.663397</td>\n",
       "      <td>1.094918</td>\n",
       "      <td>0.204783</td>\n",
       "      <td>13270.422265</td>\n",
       "    </tr>\n",
       "    <tr>\n",
       "      <th>std</th>\n",
       "      <td>14.049960</td>\n",
       "      <td>0.500160</td>\n",
       "      <td>6.098187</td>\n",
       "      <td>1.205493</td>\n",
       "      <td>0.403694</td>\n",
       "      <td>12110.011237</td>\n",
       "    </tr>\n",
       "    <tr>\n",
       "      <th>min</th>\n",
       "      <td>18.000000</td>\n",
       "      <td>0.000000</td>\n",
       "      <td>15.960000</td>\n",
       "      <td>0.000000</td>\n",
       "      <td>0.000000</td>\n",
       "      <td>1121.873900</td>\n",
       "    </tr>\n",
       "    <tr>\n",
       "      <th>25%</th>\n",
       "      <td>27.000000</td>\n",
       "      <td>0.000000</td>\n",
       "      <td>26.296250</td>\n",
       "      <td>0.000000</td>\n",
       "      <td>0.000000</td>\n",
       "      <td>4740.287150</td>\n",
       "    </tr>\n",
       "    <tr>\n",
       "      <th>50%</th>\n",
       "      <td>39.000000</td>\n",
       "      <td>0.000000</td>\n",
       "      <td>30.400000</td>\n",
       "      <td>1.000000</td>\n",
       "      <td>0.000000</td>\n",
       "      <td>9382.033000</td>\n",
       "    </tr>\n",
       "    <tr>\n",
       "      <th>75%</th>\n",
       "      <td>51.000000</td>\n",
       "      <td>1.000000</td>\n",
       "      <td>34.693750</td>\n",
       "      <td>2.000000</td>\n",
       "      <td>0.000000</td>\n",
       "      <td>16639.912515</td>\n",
       "    </tr>\n",
       "    <tr>\n",
       "      <th>max</th>\n",
       "      <td>64.000000</td>\n",
       "      <td>1.000000</td>\n",
       "      <td>53.130000</td>\n",
       "      <td>5.000000</td>\n",
       "      <td>1.000000</td>\n",
       "      <td>63770.428010</td>\n",
       "    </tr>\n",
       "  </tbody>\n",
       "</table>\n",
       "</div>"
      ],
      "text/plain": [
       "               age          sex          bmi     children       smoker  \\\n",
       "count  1338.000000  1338.000000  1338.000000  1338.000000  1338.000000   \n",
       "mean     39.207025     0.494768    30.663397     1.094918     0.204783   \n",
       "std      14.049960     0.500160     6.098187     1.205493     0.403694   \n",
       "min      18.000000     0.000000    15.960000     0.000000     0.000000   \n",
       "25%      27.000000     0.000000    26.296250     0.000000     0.000000   \n",
       "50%      39.000000     0.000000    30.400000     1.000000     0.000000   \n",
       "75%      51.000000     1.000000    34.693750     2.000000     0.000000   \n",
       "max      64.000000     1.000000    53.130000     5.000000     1.000000   \n",
       "\n",
       "            charges  \n",
       "count   1338.000000  \n",
       "mean   13270.422265  \n",
       "std    12110.011237  \n",
       "min     1121.873900  \n",
       "25%     4740.287150  \n",
       "50%     9382.033000  \n",
       "75%    16639.912515  \n",
       "max    63770.428010  "
      ]
     },
     "execution_count": 86,
     "metadata": {},
     "output_type": "execute_result"
    }
   ],
   "source": [
    "# Some calculations of the different values in the set\n",
    "insurance_df.describe()"
   ]
  },
  {
   "cell_type": "markdown",
   "id": "f1f332a8",
   "metadata": {},
   "source": [
    "Now when the data is loaded and we have changed some columns to numeric values, and seen some dtypes we can see some information before we start to analyze the data.\n",
    "\n",
    "We have 7 rows with 1338 columns so there is a lot of data that we can explore and compare. I would say we have a good quality dataset to work with. \n",
    "\n",
    "* Average age is about 39\n",
    "* About the same amount of genders in the data, a few more males.\n",
    "* Average BMI is 30\n",
    "* Average children is about 1\n",
    "* Average insurance price per year is $13,270\n",
    "* Not a lot of smokers in the dataset\n",
    "\n",
    "Average BMI is kind of high in my opinion. Normal weight should be withing the range 18,5 - 24,9. \n",
    "\n",
    "25 - 29,9 is overweight and 30 and higher is classed as obesity. Also note that under 18,5 is classed as underweight.\n",
    "\n",
    "Another column that stands out is the charges column which max out at whopping $63,770!\n",
    "While the 75th percentile sits at $16,639. That's a huge gap.\n",
    "\n",
    "We do have a good amount of variation though which is good.\n",
    "\n",
    "Now, let's check out a overview of the plots to explore the data and see if any connections can be made."
   ]
  },
  {
   "cell_type": "code",
   "execution_count": 87,
   "id": "e09af58e",
   "metadata": {},
   "outputs": [
    {
     "data": {
      "image/png": "[encoded data removed]",
      "text/plain": [
       "<Figure size 1440x1080 with 6 Axes>"
      ]
     },
     "metadata": {
      "needs_background": "light"
     },
     "output_type": "display_data"
    }
   ],
   "source": [
    "# Plotting histograms to visualize and get an overlook over the data in the set\n",
    "insurance_df.hist(bins=20, figsize=(20,15)) \n",
    "plt.show()"
   ]
  },
  {
   "cell_type": "markdown",
   "id": "b43d5178",
   "metadata": {},
   "source": [
    "As we can see in the bar charts above, we have some spikes in the age category, with the highest spike seen at under 20 years old.  \n",
    "\n",
    "I also find it interesting that we have a lot of people with high BMI in this data. We see the spike at over normal weight. \n",
    "\n",
    "The charges peaks early on, to drop by more than half below the $150,000 mark and rise slightly at ~$325,000 again with some outliers at $60,000.\n",
    "\n",
    "We can also see that the distribution of Male/Female is about 50%.\n",
    "\n",
    "Regarding the smokers, there are only ~300 smokers out of 1338.\n",
    "\n",
    "Next, we need to see the correlation of the data."
   ]
  },
  {
   "cell_type": "code",
   "execution_count": 88,
   "id": "417764eb",
   "metadata": {},
   "outputs": [
    {
     "data": {
      "text/html": [
       "<div>\n",
       "<style scoped>\n",
       "    .dataframe tbody tr th:only-of-type {\n",
       "        vertical-align: middle;\n",
       "    }\n",
       "\n",
       "    .dataframe tbody tr th {\n",
       "        vertical-align: top;\n",
       "    }\n",
       "\n",
       "    .dataframe thead th {\n",
       "        text-align: right;\n",
       "    }\n",
       "</style>\n",
       "<table border=\"1\" class=\"dataframe\">\n",
       "  <thead>\n",
       "    <tr style=\"text-align: right;\">\n",
       "      <th></th>\n",
       "      <th>age</th>\n",
       "      <th>sex</th>\n",
       "      <th>bmi</th>\n",
       "      <th>children</th>\n",
       "      <th>smoker</th>\n",
       "      <th>charges</th>\n",
       "    </tr>\n",
       "  </thead>\n",
       "  <tbody>\n",
       "    <tr>\n",
       "      <th>age</th>\n",
       "      <td>1.000000</td>\n",
       "      <td>0.020856</td>\n",
       "      <td>0.109272</td>\n",
       "      <td>0.042469</td>\n",
       "      <td>-0.025019</td>\n",
       "      <td>0.299008</td>\n",
       "    </tr>\n",
       "    <tr>\n",
       "      <th>sex</th>\n",
       "      <td>0.020856</td>\n",
       "      <td>1.000000</td>\n",
       "      <td>-0.046371</td>\n",
       "      <td>-0.017163</td>\n",
       "      <td>-0.076185</td>\n",
       "      <td>-0.057292</td>\n",
       "    </tr>\n",
       "    <tr>\n",
       "      <th>bmi</th>\n",
       "      <td>0.109272</td>\n",
       "      <td>-0.046371</td>\n",
       "      <td>1.000000</td>\n",
       "      <td>0.012759</td>\n",
       "      <td>0.003750</td>\n",
       "      <td>0.198341</td>\n",
       "    </tr>\n",
       "    <tr>\n",
       "      <th>children</th>\n",
       "      <td>0.042469</td>\n",
       "      <td>-0.017163</td>\n",
       "      <td>0.012759</td>\n",
       "      <td>1.000000</td>\n",
       "      <td>0.007673</td>\n",
       "      <td>0.067998</td>\n",
       "    </tr>\n",
       "    <tr>\n",
       "      <th>smoker</th>\n",
       "      <td>-0.025019</td>\n",
       "      <td>-0.076185</td>\n",
       "      <td>0.003750</td>\n",
       "      <td>0.007673</td>\n",
       "      <td>1.000000</td>\n",
       "      <td>0.787251</td>\n",
       "    </tr>\n",
       "    <tr>\n",
       "      <th>charges</th>\n",
       "      <td>0.299008</td>\n",
       "      <td>-0.057292</td>\n",
       "      <td>0.198341</td>\n",
       "      <td>0.067998</td>\n",
       "      <td>0.787251</td>\n",
       "      <td>1.000000</td>\n",
       "    </tr>\n",
       "  </tbody>\n",
       "</table>\n",
       "</div>"
      ],
      "text/plain": [
       "               age       sex       bmi  children    smoker   charges\n",
       "age       1.000000  0.020856  0.109272  0.042469 -0.025019  0.299008\n",
       "sex       0.020856  1.000000 -0.046371 -0.017163 -0.076185 -0.057292\n",
       "bmi       0.109272 -0.046371  1.000000  0.012759  0.003750  0.198341\n",
       "children  0.042469 -0.017163  0.012759  1.000000  0.007673  0.067998\n",
       "smoker   -0.025019 -0.076185  0.003750  0.007673  1.000000  0.787251\n",
       "charges   0.299008 -0.057292  0.198341  0.067998  0.787251  1.000000"
      ]
     },
     "execution_count": 88,
     "metadata": {},
     "output_type": "execute_result"
    }
   ],
   "source": [
    "# Here is pd.df.corr() used to save correlation data that we can explore\n",
    "corr_insurance = insurance_df.corr()\n",
    "corr_insurance"
   ]
  },
  {
   "cell_type": "code",
   "execution_count": 89,
   "id": "e7ff50fe",
   "metadata": {},
   "outputs": [
    {
     "data": {
      "text/plain": [
       "<AxesSubplot:>"
      ]
     },
     "execution_count": 89,
     "metadata": {},
     "output_type": "execute_result"
    },
    {
     "data": {
      "image/png": "[encoded data removed]",
      "text/plain": [
       "<Figure size 1080x720 with 2 Axes>"
      ]
     },
     "metadata": {
      "needs_background": "light"
     },
     "output_type": "display_data"
    }
   ],
   "source": [
    "# Using seaborns heatmap to see how the data correlates using the correlated insurance dataframe\n",
    "\n",
    "plt.figure(figsize=(15, 10))\n",
    "sns.heatmap(corr_insurance, annot=True)"
   ]
  },
  {
   "cell_type": "markdown",
   "id": "c9ad38ef",
   "metadata": {},
   "source": [
    "As I expected, the correlation between smokers and charges are quite high, but the sex has a very low correlation to the charges. \n",
    "\n",
    "We can also confirm that age and BMI is in some correlation the charges.\n",
    "\n",
    "Since we are interested in things that correlates to charges, sex doesn't really matter when it comes to insurance charges.\n",
    "\n",
    "It's safe to say we can remove the sex column. Other things is more relevant to this research.\n",
    "\n",
    "Let's also take a look at some plots that handles charges on the Y-axis and see the correlation to different columns."
   ]
  },
  {
   "cell_type": "code",
   "execution_count": 90,
   "id": "f8b53c07",
   "metadata": {},
   "outputs": [],
   "source": [
    "# This drops the sex column and as before, inplace saves the changes in the original dataframe\n",
    "insurance_df.drop(['sex'], inplace=True, axis=1)"
   ]
  },
  {
   "cell_type": "code",
   "execution_count": 91,
   "id": "34e7297d",
   "metadata": {},
   "outputs": [
    {
     "data": {
      "image/png": "[encoded data removed]",
      "text/plain": [
       "<Figure size 432x288 with 1 Axes>"
      ]
     },
     "metadata": {
      "needs_background": "light"
     },
     "output_type": "display_data"
    }
   ],
   "source": [
    "# using x and y for readability and to get an overlook at which data is on which axis\n",
    "x = insurance_df.age\n",
    "y = insurance_df.charges\n",
    "\n",
    "# Creates a scatter plot. Alpha is the opacity of the dots\n",
    "plt.scatter(x, y, alpha=0.2)\n",
    "\n",
    "# Here we can name the title of the plot and name the Y and X axis to describe the data\n",
    "plt.title('Age and charges')\n",
    "plt.xlabel('Age')\n",
    "plt.ylabel('Charges')\n",
    "\n",
    "# Show the plot we just created\n",
    "plt.show()"
   ]
  },
  {
   "cell_type": "markdown",
   "id": "7079a45e",
   "metadata": {},
   "source": [
    "# How does the age affect the insurance charges?\n",
    "\n",
    "In the above scatter plot, it's clear that age affects the insurance charges. One thing I find interesting though is that we have three lines, with a positive correlation which is expected as seen in the heatmap over correlations. \n",
    "\n",
    "And we can also see that it isn't just age that plays a part here. Some of the younger ones actually have a higher insurance cost that one in their 60's. \n",
    "\n",
    "Let's see some other examples and see how they look."
   ]
  },
  {
   "cell_type": "code",
   "execution_count": 92,
   "id": "a1cb5619",
   "metadata": {},
   "outputs": [
    {
     "data": {
      "image/png": "[encoded data removed]",
      "text/plain": [
       "<Figure size 432x288 with 1 Axes>"
      ]
     },
     "metadata": {
      "needs_background": "light"
     },
     "output_type": "display_data"
    }
   ],
   "source": [
    "# Y axis variable is the same so we just give the X axis variable a different column\n",
    "x = insurance_df.smoker\n",
    "\n",
    "# Set the lables to easier read the plot. Arange is used for locations of the labels\n",
    "labels = ['Non-smoker', 'Smoker']\n",
    "z = np.arange(len(labels))\n",
    "\n",
    "# Here we use a bar plot instead of scatter plot with usage of alpha as described above\n",
    "plt.bar(x, y, alpha=0.1)\n",
    "plt.title('Smoker and charges')\n",
    "plt.xlabel('Smoker')\n",
    "plt.ylabel('Charges')\n",
    "\n",
    "#  Implement the X labels\n",
    "plt.xticks(z, labels)\n",
    "\n",
    "plt.show()"
   ]
  },
  {
   "cell_type": "markdown",
   "id": "4a9a541a",
   "metadata": {},
   "source": [
    "# Does smoking affect the charges?\n",
    "\n",
    "Alright, so some smokers actually pays almost the double(!) of the highest cost of non-smokers. \n",
    "\n",
    "While this is interesting, this shouldn't really be news to us. Smokers have a higher risk of developing cancer, heart disease, COPD (KOL) and more.\n",
    "\n",
    "But what about different regions? We have 4 different regions to check out. Let's see if there is some differences within different regions."
   ]
  },
  {
   "cell_type": "code",
   "execution_count": 93,
   "id": "14478138",
   "metadata": {},
   "outputs": [
    {
     "data": {
      "image/png": "[encoded data removed]",
      "text/plain": [
       "<Figure size 432x288 with 1 Axes>"
      ]
     },
     "metadata": {
      "needs_background": "light"
     },
     "output_type": "display_data"
    }
   ],
   "source": [
    "x = insurance_df.region\n",
    "\n",
    "plt.bar(x, y, alpha=0.2)\n",
    "\n",
    "plt.title('Region and charges')\n",
    "plt.xlabel('Region')\n",
    "plt.ylabel('Charges')\n",
    "\n",
    "plt.show()"
   ]
  },
  {
   "cell_type": "markdown",
   "id": "f7169fb3",
   "metadata": {},
   "source": [
    "# How does the region affect the charges?\n",
    "\n",
    "It looks pretty similar. Some deviation in the southeast at the top but not much on average. As we see it doesn't effect the charges that much. In my opinion, this can be removed. "
   ]
  },
  {
   "cell_type": "code",
   "execution_count": 94,
   "id": "cbb9e434",
   "metadata": {},
   "outputs": [],
   "source": [
    "# Axis in the below code represent the columns. If we would like to drop a row, use axis=0\n",
    "insurance_df.drop(['region'], inplace=True, axis=1)"
   ]
  },
  {
   "cell_type": "markdown",
   "id": "4b74433c",
   "metadata": {},
   "source": [
    "Next up, children vs charges"
   ]
  },
  {
   "cell_type": "code",
   "execution_count": 95,
   "id": "0c709f1c",
   "metadata": {},
   "outputs": [
    {
     "data": {
      "image/png": "[encoded data removed]",
      "text/plain": [
       "<Figure size 432x288 with 1 Axes>"
      ]
     },
     "metadata": {
      "needs_background": "light"
     },
     "output_type": "display_data"
    }
   ],
   "source": [
    "x = insurance_df.children\n",
    "\n",
    "plt.bar(x, y, alpha=0.2)\n",
    "\n",
    "plt.title('Children and charges')\n",
    "plt.xlabel('Children')\n",
    "plt.ylabel('Charges')\n",
    "\n",
    "plt.show()"
   ]
  },
  {
   "cell_type": "markdown",
   "id": "7f77ea0d",
   "metadata": {},
   "source": [
    "# How does the amount of children affect the charges?\n",
    "\n",
    "Interestingly enough this was not the result that i expected. People with 5 children actually pays less then the rest of the people. I would have though the opposite. Less kids, less charges. \n",
    "There might be other factors that weigh in as well, or perhaps people that doesn't have any children have a more unhealthy lifestyle. Unfortunately we would need more kinds of data to be able to calculate other factors that are not available to us.\n",
    "\n",
    "We can see that the price drops at 4 kids, and even more at 5. \n",
    "\n",
    "Next, i want to check some differences that relates to the different measures of BMI with a combination of smokers and not smokers and we might see something interesting."
   ]
  },
  {
   "cell_type": "code",
   "execution_count": 96,
   "id": "f26a85a7",
   "metadata": {},
   "outputs": [],
   "source": [
    "# loc is used to locate bmi within a specified range and we only want smokers in this one, so it's set to 1\n",
    "smokers_high_bmi_charges = insurance_df.loc[((insurance_df['bmi'] >= 30) & (insurance_df['smoker'] == 1))]\n",
    "smokers_medium_bmi_charges = insurance_df.loc[((insurance_df['bmi'] < 30) & (insurance_df['bmi'] > 25) & (insurance_df['smoker'] == 1))]\n",
    "smokers_normal_bmi_charges = insurance_df.loc[((insurance_df['bmi'] <= 25) & (insurance_df['bmi'] > 18.5) & (insurance_df['smoker'] == 1))]\n",
    "smokers_low_bmi_charges = insurance_df.loc[((insurance_df['bmi'] < 18.5) & (insurance_df['smoker'] == 1))]"
   ]
  },
  {
   "cell_type": "code",
   "execution_count": 97,
   "id": "c5de4a9e",
   "metadata": {},
   "outputs": [
    {
     "data": {
      "image/png": "[encoded data removed]",
      "text/plain": [
       "<Figure size 432x288 with 1 Axes>"
      ]
     },
     "metadata": {
      "needs_background": "light"
     },
     "output_type": "display_data"
    }
   ],
   "source": [
    "# We give the different colored dots an label to easily see which dots are related to what data\n",
    "plt.scatter(smokers_high_bmi_charges.bmi, smokers_high_bmi_charges.charges, alpha=0.2, label='high bmi')\n",
    "plt.scatter(smokers_medium_bmi_charges.bmi, smokers_medium_bmi_charges.charges, alpha=0.2, label='medium bmi', color='blue')\n",
    "plt.scatter(smokers_normal_bmi_charges.bmi, smokers_normal_bmi_charges.charges, alpha=0.2, label='normal bmi', color='green')\n",
    "plt.scatter(smokers_low_bmi_charges.bmi, smokers_low_bmi_charges.charges, alpha=0.2, label='low bmi', color='orange')\n",
    "\n",
    "plt.title('BMI according to smokers')\n",
    "plt.xlabel('BMI')\n",
    "plt.ylabel('Charges')\n",
    "plt.legend()\n",
    "\n",
    "plt.show()"
   ]
  },
  {
   "cell_type": "markdown",
   "id": "0aa82399",
   "metadata": {},
   "source": [
    "# How is BMI and smoking related to each other?\n",
    "\n",
    "There is a positive correlation, and one thing that stands out is that with a BMI of 30 and above, the insurance charge almost doubles, with a maximum charge of over $60,000!\n",
    "\n",
    "This could be a mix of smoking related diseases and weight related diseases.\n",
    "\n",
    "##### Problems related to overweight and smoking:\n",
    "* Stroke\n",
    "* Heart disease \n",
    "* Diabetes\n",
    "* Cancer of some sort \n",
    "* Sleep apnea\n",
    "* COPD\n",
    "\n",
    "We have covered some of this before, but some of the problems are related to both which increases the risk even further. That's why we see this connection to higher charges.\n",
    "\n",
    "So how does the non-smokers do in relation to smokers? \n",
    "\n",
    "Let's find out below"
   ]
  },
  {
   "cell_type": "code",
   "execution_count": 104,
   "id": "6ebc74fd",
   "metadata": {},
   "outputs": [],
   "source": [
    "no_smokers_high_bmi_charges = insurance_df.loc[((insurance_df['bmi'] >= 30) & (insurance_df['smoker'] == 0))]\n",
    "no_smokers_medium_bmi_charges = insurance_df.loc[((insurance_df['bmi'] < 30) & (insurance_df['bmi'] >= 25) & (insurance_df['smoker'] == 0))]\n",
    "no_smokers_normal_bmi_charges = insurance_df.loc[((insurance_df['bmi'] < 25) & (insurance_df['bmi'] >= 18.5) & (insurance_df['smoker'] == 0))]\n",
    "no_smokers_low_bmi_charges = insurance_df.loc[((insurance_df['bmi'] < 18.5) & (insurance_df['smoker'] == 0))]"
   ]
  },
  {
   "cell_type": "code",
   "execution_count": 105,
   "id": "67238454",
   "metadata": {},
   "outputs": [
    {
     "data": {
      "image/png": "[encoded data removed]",
      "text/plain": [
       "<Figure size 432x288 with 1 Axes>"
      ]
     },
     "metadata": {
      "needs_background": "light"
     },
     "output_type": "display_data"
    }
   ],
   "source": [
    "plt.scatter(no_smokers_high_bmi_charges.bmi, no_smokers_high_bmi_charges.charges, alpha=0.2, label='high bmi')\n",
    "plt.scatter(no_smokers_medium_bmi_charges.bmi, no_smokers_medium_bmi_charges.charges, alpha=0.2, label='medium bmi', color='blue')\n",
    "plt.scatter(no_smokers_normal_bmi_charges.bmi, no_smokers_normal_bmi_charges.charges, alpha=0.2, label='normal bmi', color='green')\n",
    "plt.scatter(no_smokers_low_bmi_charges.bmi, no_smokers_low_bmi_charges.charges, alpha=0.2, label='low bmi', color='orange')\n",
    "\n",
    "plt.title('BMI according to non-smokers')\n",
    "plt.xlabel('BMI')\n",
    "plt.ylabel('Charges')\n",
    "plt.legend()\n",
    "\n",
    "plt.show()"
   ]
  },
  {
   "cell_type": "markdown",
   "id": "d2421659",
   "metadata": {},
   "source": [
    "Here they are pretty much clustered with some deviation over $15,000 even for non-smokers.\n",
    "\n",
    "The higher charges in this case may be other factors that is not accounted for in this set, for example other complications such as hereditary diseases. "
   ]
  },
  {
   "cell_type": "markdown",
   "id": "0fee6287",
   "metadata": {},
   "source": [
    "## What have we learned from this dataset?\n",
    "\n",
    "There is a lot of different factors that aren't accounted for in this dataset. But what we can see is that higher BMI doesn't necessary affect the charges in some cases. \n",
    "\n",
    "Though we saw that smokers with higher BMI is often charged more than non-smokers, this isn't always the case. What I miss with this set is other information that would be useful to the study. Since different regions doesn't really matter, neither does the sex of the person. I thought that it would have a larger impact on the charges, but it really didn't matter. \n",
    "\n",
    "Generally a lower age means a lower cost, with some deviation that could relate to smoking or other health issues that is not in this dataset.\n",
    "\n",
    "We could say this dataset would need more columns related to other health factors to get a more accurate result, such as underlying diseases and maybe income. That would be interesting to see how income affect the charges. That might be a factor in how much you pay in insurance. \n",
    "\n",
    "Overall, the results aren't that surprising actually but we can still get some interesting predictions."
   ]
  },
  {
   "cell_type": "markdown",
   "id": "cc5020f6",
   "metadata": {},
   "source": [
    "## What to do next?\n",
    "\n",
    "We can continue working with this dataset for training AI to predict the charges of future patients. We can also do our own study with more relevant data needed, though this would be time consuming but interesting to see the different factors as well.\n",
    "\n",
    "If you want to explore some sets related to health, as this one, there some interesting sets available to be used. \n",
    "With these sets below you can build up your knowledge in machine learning or diseases.\n",
    "\n",
    "Dataset on heart disease. This set can be used in machine learning or to explore and see if you find something interesting yourself that you want to study.\n",
    "* https://www.kaggle.com/ronitf/heart-disease-uci\n",
    "\n",
    "Dataset on disease prediction. Also this set can be used in machine learning and help you understand how some symptoms of diseases work.\n",
    "* https://www.kaggle.com/kaushil268/disease-prediction-using-machine-learning\n",
    "\n",
    "Or this dataset if you want to continue researching on health insurance coverage. For example how the insurance coverage looks according to different ages or towns. \n",
    "* http://data.ctdata.org/dataset/health-insurance-coverage/resource/36775d31-4620-427a-a6c2-7ea08d8689b2"
   ]
  }
 ],
 "metadata": {
  "kernelspec": {
   "display_name": "Python 3 (ipykernel)",
   "language": "python",
   "name": "python3"
  },
  "language_info": {
   "codemirror_mode": {
    "name": "ipython",
    "version": 3
   },
   "file_extension": ".py",
   "mimetype": "text/x-python",
   "name": "python",
   "nbconvert_exporter": "python",
   "pygments_lexer": "ipython3",
   "version": "3.9.7"
  }
 },
 "nbformat": 4,
 "nbformat_minor": 5
}
